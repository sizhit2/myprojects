{
 "cells": [
  {
   "cell_type": "code",
   "execution_count": 15,
   "metadata": {},
   "outputs": [],
   "source": [
    "# review = pd.read_csv('cleaned_review.csv')\n",
    "movie = pd.read_csv('data/combined_corpus_for_search_engine.csv')\n",
    "# data_review = review['review']\n",
    "data_movie = movie['Combined']\n",
    "# data_review = data_review.fillna('')\n",
    "# data_movie = data_movie.fillna('')\n",
    "s_movie = []\n",
    "# s_review = []\n",
    "for i in range(len(data_movie)):\n",
    "    s_movie.append(data_movie.iloc[i])"
   ]
  },
  {
   "cell_type": "code",
   "execution_count": 9,
   "metadata": {},
   "outputs": [],
   "source": [
    "import pandas as pd\n",
    "import numpy as np\n",
    "import matplotlib.pyplot as plt\n",
    "from sklearn.feature_extraction.text import TfidfVectorizer,CountVectorizer\n",
    "from sklearn.neighbors import NearestNeighbors\n",
    "%matplotlib inline\n",
    "import nltk\n",
    "from nltk.corpus import stopwords\n",
    "import plotly.graph_objs as go\n",
    "from plotly import tools\n",
    "from plotly.offline import download_plotlyjs, init_notebook_mode, plot, iplot\n",
    "import plotly.plotly as py"
   ]
  },
  {
   "cell_type": "code",
   "execution_count": 10,
   "metadata": {},
   "outputs": [],
   "source": [
    "vector_movie = TfidfVectorizer(stop_words=set(stopwords.words('english')),max_df=0.8,min_df= 0.01,analyzer= 'word')"
   ]
  },
  {
   "cell_type": "code",
   "execution_count": 16,
   "metadata": {},
   "outputs": [
    {
     "name": "stdout",
     "output_type": "stream",
     "text": [
      "This is for review 9481 : \n",
      "            Oscar-nominated documentary short chronicling the pursuit and arrest an of African-American schoolteacher Breaion King in Austin in 2015.  Kate Davis      HBO Documentary Films  Traffic Stop          Documentary   \n",
      "\n",
      "This is for review 4656 : \n",
      "            With breathtaking cinematography, director Cosima Spender's enthralling documentary captures the intensity of world's oldest horse race.  Cosima Spender        Palio  John Hunt  Cosima Spender      Documentary  Drama  Art&Foreign   \n",
      "\n",
      "This is for review 9236 : \n",
      "Naomi Watts  Ben Mendelsohn  Djimon Hounsou  Emile Hirsch  Ang Lee  Catherine Hardwicke  Fathom Events and Network Entertainment present the documentary, I Am Heath Ledger, an intimate look at the remarkable life and career of Heath Ledger, in select cinemas nationwide for a special one-night event on Wednesday, May 3. I Am Heath Ledger is a feature length documentary celebrating the life of Heath Ledger: actor, artist and icon. The documentary provides an intimate look at Heath Ledger through the lens of his own camera as he films and often performs in his own personal journey - extravagant in gesture and in action. Following the documentary, the event will include an exclusive segment featuring interviews with Heath's friends and family.  Adrian Buitenhuis  Derik Murray    Fathom Events  I Am Heath Ledger          Documentary   \n",
      "\n",
      "This is for review 9396 : \n",
      "            This documentary explores the spiritual journey of pilgrims who converge to bathe in the sacred waters of the Ganges to purify their sins during the Hindu festival of Kumbh Mela.  Maurizio Benazzo  Nick Day    Mela Films  Short Cut to Nirvana: Kumbh Mela          Documentary   \n",
      "\n",
      "This is for review 9655 : \n",
      "            The 2013 Boston Marathon terrorist attacks are recalled in this in-depth documentary through interviews with survivors and their families, as well as first responders, investigators, government officials and reporters from the Boston Globe. The film also uses surveillance video and home movies to recount the tragic events.  Ricki Stern  Anne Sundberg    HBO Documentary Films  Marathon: The Patriots Day Bombing  Ricki Stern  Anne Sundberg      Documentary   \n",
      "\n",
      "This is the title of the recommended movie Traffic Stop  \n",
      "This is the title of the recommended movie Palio  \n",
      "This is the title of the recommended movie I Am Heath Ledger  \n",
      "This is the title of the recommended movie Short Cut to Nirvana: Kumbh Mela  \n",
      "This is the title of the recommended movie Marathon: The Patriots Day Bombing  \n"
     ]
    },
    {
     "data": {
      "text/html": [
       "<iframe id=\"igraph\" scrolling=\"no\" style=\"border:none;\" seamless=\"seamless\" src=\"https://plot.ly/~wan19990901/76.embed\" height=\"525px\" width=\"100%\"></iframe>"
      ],
      "text/plain": [
       "<plotly.tools.PlotlyDisplay object>"
      ]
     },
     "execution_count": 16,
     "metadata": {},
     "output_type": "execute_result"
    }
   ],
   "source": [
    "data_m = vector_movie.fit_transform(s_movie)\n",
    "que_m = vector_movie.transform(['Documentary or scifri']) \n",
    "knn = NearestNeighbors(5,metric='cosine')\n",
    "knn.fit(data_m)\n",
    "result = knn.kneighbors(que_m)\n",
    "labels = []\n",
    "idx = []\n",
    "for i in result[1][0]:\n",
    "    print('This is for review ' + str(i) + \" : \\n\" + data_movie.iloc[i],'\\n')\n",
    "for i in result[1][0]:\n",
    "    t = movie.iloc[i]['Title']\n",
    "    if(pd.isna(t)):\n",
    "        continue\n",
    "    else:\n",
    "        j = np.argwhere(result[1][0] == i)[0][0]\n",
    "        idx.append(j)\n",
    "        labels.append(t)\n",
    "        print(\"This is the title of the recommended movie \" + t)\n",
    "values = (result[0][0])[idx]\n",
    "colors = ['#FEBFB3', '#E1396C', '#96D38C', '#D0F9B1']\n",
    "trace = go.Pie(labels=labels, values=values,\n",
    "               hoverinfo='label+percent', textinfo='value', \n",
    "               textfont=dict(size=20),\n",
    "               marker=dict(colors=colors, \n",
    "                           line=dict(color='#000000', width=2)))\n",
    "\n",
    "py.iplot([trace], filename='styled_pie_chart')"
   ]
  },
  {
   "cell_type": "code",
   "execution_count": 12,
   "metadata": {},
   "outputs": [
    {
     "ename": "TypeError",
     "evalue": "'NearestNeighbors' object does not support indexing",
     "output_type": "error",
     "traceback": [
      "\u001b[0;31m---------------------------------------------------------------------------\u001b[0m",
      "\u001b[0;31mTypeError\u001b[0m                                 Traceback (most recent call last)",
      "\u001b[0;32m<ipython-input-12-11de8b4ee137>\u001b[0m in \u001b[0;36m<module>\u001b[0;34m\u001b[0m\n\u001b[1;32m      6\u001b[0m \u001b[0mlabels\u001b[0m \u001b[0;34m=\u001b[0m \u001b[0;34m[\u001b[0m\u001b[0;34m]\u001b[0m\u001b[0;34m\u001b[0m\u001b[0;34m\u001b[0m\u001b[0m\n\u001b[1;32m      7\u001b[0m \u001b[0midx\u001b[0m \u001b[0;34m=\u001b[0m \u001b[0;34m[\u001b[0m\u001b[0;34m]\u001b[0m\u001b[0;34m\u001b[0m\u001b[0;34m\u001b[0m\u001b[0m\n\u001b[0;32m----> 8\u001b[0;31m \u001b[0;32mfor\u001b[0m \u001b[0mi\u001b[0m \u001b[0;32min\u001b[0m \u001b[0mresult\u001b[0m\u001b[0;34m[\u001b[0m\u001b[0;36m1\u001b[0m\u001b[0;34m]\u001b[0m\u001b[0;34m[\u001b[0m\u001b[0;36m0\u001b[0m\u001b[0;34m]\u001b[0m\u001b[0;34m:\u001b[0m\u001b[0;34m\u001b[0m\u001b[0;34m\u001b[0m\u001b[0m\n\u001b[0m\u001b[1;32m      9\u001b[0m     \u001b[0mprint\u001b[0m\u001b[0;34m(\u001b[0m\u001b[0;34m'This is for review '\u001b[0m \u001b[0;34m+\u001b[0m \u001b[0mstr\u001b[0m\u001b[0;34m(\u001b[0m\u001b[0mi\u001b[0m\u001b[0;34m)\u001b[0m \u001b[0;34m+\u001b[0m \u001b[0;34m\" : \\n\"\u001b[0m \u001b[0;34m+\u001b[0m \u001b[0mdata_movie\u001b[0m\u001b[0;34m.\u001b[0m\u001b[0miloc\u001b[0m\u001b[0;34m[\u001b[0m\u001b[0mi\u001b[0m\u001b[0;34m]\u001b[0m\u001b[0;34m,\u001b[0m\u001b[0;34m'\\n'\u001b[0m\u001b[0;34m)\u001b[0m\u001b[0;34m\u001b[0m\u001b[0;34m\u001b[0m\u001b[0m\n\u001b[1;32m     10\u001b[0m \u001b[0;32mfor\u001b[0m \u001b[0mi\u001b[0m \u001b[0;32min\u001b[0m \u001b[0mresult\u001b[0m\u001b[0;34m[\u001b[0m\u001b[0;36m1\u001b[0m\u001b[0;34m]\u001b[0m\u001b[0;34m[\u001b[0m\u001b[0;36m0\u001b[0m\u001b[0;34m]\u001b[0m\u001b[0;34m:\u001b[0m\u001b[0;34m\u001b[0m\u001b[0;34m\u001b[0m\u001b[0m\n",
      "\u001b[0;31mTypeError\u001b[0m: 'NearestNeighbors' object does not support indexing"
     ]
    }
   ],
   "source": [
    "data_m = vector_movie.fit_transform(s_movie)\n",
    "que_m = vector_movie.transform(['Tom Papa and Rob zombie ']) \n",
    "knn = NearestNeighbors(10,metric='cosine')\n",
    "knn.fit(data_m)\n",
    "result = knn\n",
    "labels = []\n",
    "idx = []\n",
    "for i in result[1][0]:\n",
    "    print('This is for review ' + str(i) + \" : \\n\" + data_movie.iloc[i],'\\n')\n",
    "for i in result[1][0]:\n",
    "    t = movie.iloc[i]['Title']\n",
    "    if(pd.isna(t)):\n",
    "        continue\n",
    "    else:\n",
    "        j = np.argwhere(result[1][0] == i)[0][0]\n",
    "        idx.append(j)\n",
    "        labels.append(t)\n",
    "        print(\"This is the title of the recommended movie \" + t)\n",
    "values = (result[0][0])[idx]\n",
    "colors = ['#FEBFB3', '#E1396C', '#96D38C', '#D0F9B1']\n",
    "trace = go.Pie(labels=labels, values=values,\n",
    "               hoverinfo='label+percent', textinfo='value', \n",
    "               textfont=dict(size=20),\n",
    "               marker=dict(colors=colors, \n",
    "                           line=dict(color='#000000', width=2)))\n",
    "\n",
    "py.iplot([trace], filename='styled_pie_chart')"
   ]
  },
  {
   "cell_type": "markdown",
   "metadata": {},
   "source": [
    "# idea"
   ]
  },
  {
   "cell_type": "markdown",
   "metadata": {},
   "source": [
    "## We first display the result with any bias (do not refer to any other, if they like, great, if not, we should then ask further, content collabrative filtering), we can also give a general idea for different categories and some interesting facts, produce some graphs as well"
   ]
  },
  {
   "cell_type": "markdown",
   "metadata": {},
   "source": [
    "# Tasks: "
   ]
  },
  {
   "cell_type": "raw",
   "metadata": {},
   "source": [
    "0: Discuss the use of reviews(topic mining to tell what's good and what's a bad movie?)\n",
    "1 : feature averge rating column on movie table(based on critic, number of reviews, etc)\n",
    "2 : further feature engineering to get the columns we need when recoomend\n",
    "3 : Manually add more data from douban dataset, after we choose the things we want to keep for analyze, also feature average score\n",
    "4 : some interesting plots on the things we keep.\n",
    "\n",
    "Future: Kmeans GMM Text clustering on description after searching query, more text preprocessing(N-gram, stemming,etc), create a class for code to make system robust and readable,get website ready and get ready for deployment, Add text summaryizer to the result"
   ]
  },
  {
   "cell_type": "code",
   "execution_count": 13,
   "metadata": {},
   "outputs": [],
   "source": [
    "import pickle"
   ]
  },
  {
   "cell_type": "code",
   "execution_count": 17,
   "metadata": {},
   "outputs": [],
   "source": [
    "pickle.dump(knn, open('model.pkl','wb'))"
   ]
  },
  {
   "cell_type": "code",
   "execution_count": 48,
   "metadata": {},
   "outputs": [
    {
     "ename": "FileNotFoundError",
     "evalue": "[Errno 2] No such file or directory: 'model.pkl'",
     "output_type": "error",
     "traceback": [
      "\u001b[0;31m---------------------------------------------------------------------------\u001b[0m",
      "\u001b[0;31mFileNotFoundError\u001b[0m                         Traceback (most recent call last)",
      "\u001b[0;32m<ipython-input-48-fb96296544fe>\u001b[0m in \u001b[0;36m<module>\u001b[0;34m\u001b[0m\n\u001b[0;32m----> 1\u001b[0;31m \u001b[0mmodel\u001b[0m \u001b[0;34m=\u001b[0m \u001b[0mpickle\u001b[0m\u001b[0;34m.\u001b[0m\u001b[0mload\u001b[0m\u001b[0;34m(\u001b[0m\u001b[0mopen\u001b[0m\u001b[0;34m(\u001b[0m\u001b[0;34m'model.pkl'\u001b[0m\u001b[0;34m,\u001b[0m\u001b[0;34m'rb'\u001b[0m\u001b[0;34m)\u001b[0m\u001b[0;34m)\u001b[0m\u001b[0;34m\u001b[0m\u001b[0;34m\u001b[0m\u001b[0m\n\u001b[0m\u001b[1;32m      2\u001b[0m \u001b[0mmodel\u001b[0m\u001b[0;34m.\u001b[0m\u001b[0mkneighbors\u001b[0m\u001b[0;34m(\u001b[0m\u001b[0mque_m\u001b[0m\u001b[0;34m)\u001b[0m\u001b[0;34m[\u001b[0m\u001b[0;36m0\u001b[0m\u001b[0;34m]\u001b[0m\u001b[0;34m\u001b[0m\u001b[0;34m\u001b[0m\u001b[0m\n",
      "\u001b[0;31mFileNotFoundError\u001b[0m: [Errno 2] No such file or directory: 'model.pkl'"
     ]
    }
   ],
   "source": [
    "model = pickle.load(open('model.pkl','rb'))\n"
   ]
  },
  {
   "cell_type": "code",
   "execution_count": 51,
   "metadata": {},
   "outputs": [
    {
     "data": {
      "text/plain": [
       "array([ 9481,  4656,  9236,  9396,  9655,  9843, 10130,  8929,  9430,\n",
       "        9474])"
      ]
     },
     "execution_count": 51,
     "metadata": {},
     "output_type": "execute_result"
    }
   ],
   "source": [
    "model.kneighbors(que_m)[1][0]"
   ]
  },
  {
   "cell_type": "code",
   "execution_count": 91,
   "metadata": {},
   "outputs": [
    {
     "ename": "ValueError",
     "evalue": "k array doesn't match data dimension",
     "output_type": "error",
     "traceback": [
      "\u001b[0;31m---------------------------------------------------------------------------\u001b[0m",
      "\u001b[0;31mValueError\u001b[0m                                Traceback (most recent call last)",
      "\u001b[0;32m<ipython-input-91-7c2a7e974ffd>\u001b[0m in \u001b[0;36m<module>\u001b[0;34m\u001b[0m\n\u001b[1;32m      8\u001b[0m     \u001b[0mclustering\u001b[0m \u001b[0;34m=\u001b[0m \u001b[0mAgglomerativeClustering\u001b[0m\u001b[0;34m(\u001b[0m\u001b[0mn_clusters\u001b[0m\u001b[0;34m=\u001b[0m\u001b[0mk\u001b[0m\u001b[0;34m,\u001b[0m\u001b[0mlinkage\u001b[0m\u001b[0;34m=\u001b[0m\u001b[0;34m'single'\u001b[0m\u001b[0;34m,\u001b[0m\u001b[0maffinity\u001b[0m\u001b[0;34m=\u001b[0m\u001b[0;34m'cosine'\u001b[0m\u001b[0;34m)\u001b[0m\u001b[0;34m.\u001b[0m\u001b[0mfit\u001b[0m\u001b[0;34m(\u001b[0m\u001b[0mX\u001b[0m\u001b[0;34m)\u001b[0m\u001b[0;34m\u001b[0m\u001b[0;34m\u001b[0m\u001b[0m\n\u001b[1;32m      9\u001b[0m     \u001b[0;32mreturn\u001b[0m \u001b[0mclustering\u001b[0m\u001b[0;34m.\u001b[0m\u001b[0mlabels_\u001b[0m\u001b[0;34m\u001b[0m\u001b[0;34m\u001b[0m\u001b[0m\n\u001b[0;32m---> 10\u001b[0;31m \u001b[0mkmean\u001b[0m\u001b[0;34m(\u001b[0m\u001b[0;36m2\u001b[0m\u001b[0;34m,\u001b[0m\u001b[0mX\u001b[0m\u001b[0;34m,\u001b[0m\u001b[0mck\u001b[0m\u001b[0;34m)\u001b[0m\u001b[0;34m\u001b[0m\u001b[0;34m\u001b[0m\u001b[0m\n\u001b[0m",
      "\u001b[0;32m<ipython-input-91-7c2a7e974ffd>\u001b[0m in \u001b[0;36mkmean\u001b[0;34m(k, X, ck)\u001b[0m\n\u001b[1;32m      3\u001b[0m \u001b[0;32mimport\u001b[0m \u001b[0mnumpy\u001b[0m \u001b[0;32mas\u001b[0m \u001b[0mnp\u001b[0m\u001b[0;34m\u001b[0m\u001b[0;34m\u001b[0m\u001b[0m\n\u001b[1;32m      4\u001b[0m \u001b[0;32mdef\u001b[0m \u001b[0mkmean\u001b[0m\u001b[0;34m(\u001b[0m\u001b[0mk\u001b[0m\u001b[0;34m,\u001b[0m\u001b[0mX\u001b[0m\u001b[0;34m,\u001b[0m\u001b[0mck\u001b[0m\u001b[0;34m)\u001b[0m\u001b[0;34m:\u001b[0m\u001b[0;34m\u001b[0m\u001b[0;34m\u001b[0m\u001b[0m\n\u001b[0;32m----> 5\u001b[0;31m     \u001b[0mk\u001b[0m \u001b[0;34m=\u001b[0m \u001b[0mkmeans2\u001b[0m\u001b[0;34m(\u001b[0m\u001b[0mX\u001b[0m\u001b[0;34m,\u001b[0m\u001b[0mk\u001b[0m\u001b[0;34m=\u001b[0m\u001b[0mck\u001b[0m\u001b[0;34m)\u001b[0m\u001b[0;34m\u001b[0m\u001b[0;34m\u001b[0m\u001b[0m\n\u001b[0m\u001b[1;32m      6\u001b[0m     \u001b[0;32mreturn\u001b[0m \u001b[0mk\u001b[0m\u001b[0;34m\u001b[0m\u001b[0;34m\u001b[0m\u001b[0m\n\u001b[1;32m      7\u001b[0m \u001b[0;32mdef\u001b[0m \u001b[0magnes\u001b[0m\u001b[0;34m(\u001b[0m\u001b[0mk\u001b[0m\u001b[0;34m,\u001b[0m\u001b[0mX\u001b[0m\u001b[0;34m)\u001b[0m\u001b[0;34m:\u001b[0m\u001b[0;34m\u001b[0m\u001b[0;34m\u001b[0m\u001b[0m\n",
      "\u001b[0;32m~/anaconda3/lib/python3.7/site-packages/scipy/cluster/vq.py\u001b[0m in \u001b[0;36mkmeans2\u001b[0;34m(data, k, iter, thresh, minit, missing, check_finite)\u001b[0m\n\u001b[1;32m    685\u001b[0m         \u001b[0mnc\u001b[0m \u001b[0;34m=\u001b[0m \u001b[0mlen\u001b[0m\u001b[0;34m(\u001b[0m\u001b[0mcode_book\u001b[0m\u001b[0;34m)\u001b[0m\u001b[0;34m\u001b[0m\u001b[0;34m\u001b[0m\u001b[0m\n\u001b[1;32m    686\u001b[0m         \u001b[0;32mif\u001b[0m \u001b[0mdata\u001b[0m\u001b[0;34m.\u001b[0m\u001b[0mndim\u001b[0m \u001b[0;34m>\u001b[0m \u001b[0;36m1\u001b[0m \u001b[0;32mand\u001b[0m \u001b[0mcode_book\u001b[0m\u001b[0;34m.\u001b[0m\u001b[0mshape\u001b[0m\u001b[0;34m[\u001b[0m\u001b[0;36m1\u001b[0m\u001b[0;34m]\u001b[0m \u001b[0;34m!=\u001b[0m \u001b[0md\u001b[0m\u001b[0;34m:\u001b[0m\u001b[0;34m\u001b[0m\u001b[0;34m\u001b[0m\u001b[0m\n\u001b[0;32m--> 687\u001b[0;31m             \u001b[0;32mraise\u001b[0m \u001b[0mValueError\u001b[0m\u001b[0;34m(\u001b[0m\u001b[0;34m\"k array doesn't match data dimension\"\u001b[0m\u001b[0;34m)\u001b[0m\u001b[0;34m\u001b[0m\u001b[0;34m\u001b[0m\u001b[0m\n\u001b[0m\u001b[1;32m    688\u001b[0m     \u001b[0;32melse\u001b[0m\u001b[0;34m:\u001b[0m\u001b[0;34m\u001b[0m\u001b[0;34m\u001b[0m\u001b[0m\n\u001b[1;32m    689\u001b[0m         \u001b[0mnc\u001b[0m \u001b[0;34m=\u001b[0m \u001b[0mint\u001b[0m\u001b[0;34m(\u001b[0m\u001b[0mk\u001b[0m\u001b[0;34m)\u001b[0m\u001b[0;34m\u001b[0m\u001b[0;34m\u001b[0m\u001b[0m\n",
      "\u001b[0;31mValueError\u001b[0m: k array doesn't match data dimension"
     ]
    }
   ],
   "source": [
    "from scipy.cluster.vq import vq, kmeans2, whiten\n",
    "from sklearn.cluster import AgglomerativeClustering\n",
    "import numpy as np\n",
    "def kmean(k,X,ck):\n",
    "    k = kmeans2(X,k=ck)\n",
    "    return k\n",
    "def agnes(k,X):\n",
    "    clustering = AgglomerativeClustering(n_clusters=k,linkage='single',affinity='cosine').fit(X)\n",
    "    return clustering.labels_\n",
    "kmean(2,X,ck)"
   ]
  },
  {
   "cell_type": "code",
   "execution_count": 93,
   "metadata": {},
   "outputs": [],
   "source": [
    "ck = np.array([[3.35228193353,6.27493570626],\n",
    "[6.76656276363,6.54028732984 ]])\n",
    "X = np.array([[8.98320053625,-2.08946304844],\n",
    "[2.61615632899,9.46426282022],\n",
    "[1.60822068547,8.29785986996],\n",
    "[8.64957587261,-0.882595891607],\n",
    "[1.01364234605,10.0300852081],\n",
    "[1.49172651098,8.68816850944] ,\n",
    "[7.95531802235 ,-1.96381815529 ],\n",
    "[0.527763520075 ,9.22731148332 ],\n",
    "[6.91660822453 ,-3.2344537134 ],\n",
    "[6.48286208351 ,-0.605353440895]])"
   ]
  },
  {
   "cell_type": "code",
   "execution_count": 90,
   "metadata": {},
   "outputs": [
    {
     "data": {
      "image/png": "[encoded data removed]",
      "text/plain": [
       "<Figure size 2160x1440 with 1 Axes>"
      ]
     },
     "metadata": {
      "needs_background": "light"
     },
     "output_type": "display_data"
    }
   ],
   "source": [
    "from scipy.cluster import hierarchy\n",
    "import matplotlib.pyplot as plt\n",
    "X = [[1,2,3],[2,1,3],[5,4,1],[5,6,4],[4,2,6]]\n",
    "Z = hierarchy.linkage(X, 'single',metric='cosine')\n",
    "plt.figure(figsize=(30,20))\n",
    "dn = hierarchy.dendrogram(Z)\n",
    "plt.show()"
   ]
  },
  {
   "cell_type": "code",
   "execution_count": 85,
   "metadata": {},
   "outputs": [
    {
     "data": {
      "text/plain": [
       "array([0, 1, 1, 0, 1, 1, 0, 1, 0, 0])"
      ]
     },
     "execution_count": 85,
     "metadata": {},
     "output_type": "execute_result"
    }
   ],
   "source": [
    "agnes(2,X)"
   ]
  },
  {
   "cell_type": "code",
   "execution_count": 99,
   "metadata": {},
   "outputs": [],
   "source": [
    "data = [list(x) for x in X]"
   ]
  },
  {
   "cell_type": "code",
   "execution_count": 107,
   "metadata": {},
   "outputs": [],
   "source": [
    "def Euclidean_distance(feat_one, feat_two):\n",
    "\n",
    "    squared_distances = 0\n",
    "\n",
    "    #Assuming correct input to the function where the lengths of two features are the same\n",
    "\n",
    "    for i in range(len(feat_one)):\n",
    "        squared_distances += (feat_one[i] - feat_two[i])**2\n",
    "\n",
    "    ed = math.sqrt(squared_distances)\n",
    "\n",
    "    return ed;\n",
    "def get_new_c(fea):\n",
    "    l1 = len(fea)\n",
    "    l2 = len(fea[0])\n",
    "    new_c = []\n",
    "    for i in range(l2):\n",
    "        s = 0\n",
    "        for j in range(l1):\n",
    "            s += fea[j][i]\n",
    "        new_c.append(s/l1)\n",
    "    return new_c\n",
    "class K_Means:\n",
    "    def __init__(self, k):\n",
    "        self.k = k\n",
    "        self.centroids = ck\n",
    "    def fit(self,data):\n",
    "\n",
    "        self.classifications = {}\n",
    "        \n",
    "        for i in range(self.k):\n",
    "            self.classifications[i] = []\n",
    "        while True:\n",
    "            for featureset in data:\n",
    "                distances = [Euclidean_distance(featureset,centroid) for centroid in self.centroids]\n",
    "                classification = distances.index(min(distances))\n",
    "                self.classifications[classification].append(featureset)\n",
    "            prev_centroids = self.centroids\n",
    "            for classification in self.classifications:\n",
    "                self.centroids[classification] = get_new_c(self.classifications[classification])\n",
    "            optimized = True\n",
    "\n",
    "            for c in range(len(self.centroids)):\n",
    "                original_centroid = prev_centroids[c]\n",
    "                current_centroid = self.centroids[c]\n",
    "                print(original_centroid,current_centroid)\n",
    "                if (original_centroid != current_centroid).all():\n",
    "                    optimized = False\n",
    "\n",
    "            if optimized:\n",
    "                break"
   ]
  },
  {
   "cell_type": "code",
   "execution_count": 108,
   "metadata": {},
   "outputs": [],
   "source": [
    "clu = K_Means(2)"
   ]
  },
  {
   "cell_type": "code",
   "execution_count": 109,
   "metadata": {},
   "outputs": [
    {
     "name": "stdout",
     "output_type": "stream",
     "text": [
      "[1.45150188 9.14153758] [1.45150188 9.14153758]\n",
      "[ 7.79751295 -1.75513685] [ 7.79751295 -1.75513685]\n"
     ]
    }
   ],
   "source": [
    "clu.fit(data)"
   ]
  },
  {
   "cell_type": "code",
   "execution_count": 110,
   "metadata": {},
   "outputs": [
    {
     "data": {
      "text/plain": [
       "{0: [[2.61615632899, 9.46426282022],\n",
       "  [1.60822068547, 8.29785986996],\n",
       "  [1.01364234605, 10.0300852081],\n",
       "  [1.49172651098, 8.68816850944],\n",
       "  [0.527763520075, 9.22731148332]],\n",
       " 1: [[8.98320053625, -2.08946304844],\n",
       "  [8.64957587261, -0.882595891607],\n",
       "  [7.95531802235, -1.96381815529],\n",
       "  [6.91660822453, -3.2344537134],\n",
       "  [6.48286208351, -0.605353440895]]}"
      ]
     },
     "execution_count": 110,
     "metadata": {},
     "output_type": "execute_result"
    }
   ],
   "source": [
    "clu.classifications"
   ]
  },
  {
   "cell_type": "code",
   "execution_count": 114,
   "metadata": {},
   "outputs": [
    {
     "data": {
      "text/plain": [
       "[[8.98320053625, -2.08946304844],\n",
       " [2.61615632899, 9.46426282022],\n",
       " [1.60822068547, 8.29785986996],\n",
       " [8.64957587261, -0.882595891607],\n",
       " [1.01364234605, 10.0300852081],\n",
       " [1.49172651098, 8.68816850944],\n",
       " [7.95531802235, -1.96381815529],\n",
       " [0.527763520075, 9.22731148332],\n",
       " [6.91660822453, -3.2344537134],\n",
       " [6.48286208351, -0.605353440895]]"
      ]
     },
     "execution_count": 114,
     "metadata": {},
     "output_type": "execute_result"
    }
   ],
   "source": [
    "data"
   ]
  },
  {
   "cell_type": "code",
   "execution_count": 116,
   "metadata": {},
   "outputs": [
    {
     "data": {
      "text/plain": [
       "2"
      ]
     },
     "execution_count": 116,
     "metadata": {},
     "output_type": "execute_result"
    }
   ],
   "source": [
    "min()"
   ]
  },
  {
   "cell_type": "code",
   "execution_count": 117,
   "metadata": {},
   "outputs": [
    {
     "data": {
      "text/plain": [
       "0"
      ]
     },
     "execution_count": 117,
     "metadata": {},
     "output_type": "execute_result"
    }
   ],
   "source": [
    "[2,21,10,2].index(2)"
   ]
  },
  {
   "cell_type": "code",
   "execution_count": null,
   "metadata": {},
   "outputs": [],
   "source": []
  }
 ],
 "metadata": {
  "kernelspec": {
   "display_name": "Python 3",
   "language": "python",
   "name": "python3"
  },
  "language_info": {
   "codemirror_mode": {
    "name": "ipython",
    "version": 3
   },
   "file_extension": ".py",
   "mimetype": "text/x-python",
   "name": "python",
   "nbconvert_exporter": "python",
   "pygments_lexer": "ipython3",
   "version": "3.7.1"
  }
 },
 "nbformat": 4,
 "nbformat_minor": 2
}
