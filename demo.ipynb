{
 "cells": [
  {
   "cell_type": "code",
   "execution_count": 142,
   "metadata": {},
   "outputs": [],
   "source": [
    "search_movie = TfidfVectorizer(stop_words=set(stopwords.words('english')),analyzer= 'word')\n",
    "recommend_movie = TfidfVectorizer(stop_words=set(stopwords.words('english')),max_df=0.9,analyzer= 'word')"
   ]
  },
  {
   "cell_type": "code",
   "execution_count": 51,
   "metadata": {},
   "outputs": [],
   "source": [
    "import pandas as pd\n",
    "import numpy as np\n",
    "import matplotlib.pyplot as plt\n",
    "from sklearn.feature_extraction.text import TfidfVectorizer,CountVectorizer\n",
    "from sklearn.neighbors import NearestNeighbors\n",
    "%matplotlib inline\n",
    "import nltk\n",
    "from nltk.corpus import stopwords\n",
    "import plotly.graph_objs as go\n",
    "from plotly import tools\n",
    "from plotly.offline import download_plotlyjs, init_notebook_mode, plot, iplot\n",
    "import plotly.plotly as py\n",
    "from gensim.summarization.bm25 import get_bm25_weights\n",
    "from gensim.summarization.bm25 import BM25"
   ]
  },
  {
   "cell_type": "code",
   "execution_count": 135,
   "metadata": {},
   "outputs": [],
   "source": []
  },
  {
   "cell_type": "code",
   "execution_count": 139,
   "metadata": {},
   "outputs": [
    {
     "name": "stdout",
     "output_type": "stream",
     "text": [
      "This is for review 3180 : \n",
      "Vincius Garcia  Lu Horta  Marco Aurlio Campos        Cuca's cozy rural life is shattered when his father leaves for the city, prompting him to embark on a quest to reunite his family. The young boy's journey unfolds like a tapestry, the animation taking on greater complexity as his small world expands. Entering civilization, industrial landscapes are inhabited by animal-machines, with barrios of decoupage streets and shop windows, and flashing neon advertisements that illuminate the night. The story depicts a clash between village and city, hand crafted and mechanized, rich and poor - and throughout the tumult, the heart and soul of the people beats on as a song. The film's music is on equal footing with the stunning visuals, a soundscape of pan-flute, samba, and Brazilian hip-hop mixing with the whirling carnival colors and exploding fireworks.  Al Abreu      GKIDS  Boy and the World (O Menino e o Mundo)  Al Abreu        nanArt&Foreign   \n",
      "\n",
      "This is for review 1374 : \n",
      "Jack Hawkins  Joan Collins  Dewey Martin  Sydney Chaplin  Alexis Minotis  James Robertson Justice  Un faran de Egipto ordena la construccin de la pirmide ms grande del mundo.Jack Hawkins, Joan Collins, Howard Hawks.  Howard Hawks      WARNER BROTHERS PICTURES  Land of the Pharaohs  Harold Jack Bloom  William Faulkner  Harry Kurnitz    Action  Drama  Classics   \n",
      "\n",
      "This is for review 12566 : \n",
      "Emily Watson  Jakob Salvati  Kevin James  David Henrie  Tom Wilkinson  Ted Levine  LITTLE BOY is a powerful and moving film about a little boy who is willing to do whatever it takes to bring his dad home from World War II alive. The heartwarming story will capture your heart and lift your spirits as it reveals the indescribable love a little boy has for his father and the love a father has for his son. Set in the 1940s, LITTLE BOY is an instant cinematic classic that captures the wonder of life through the eyes of a 7- year-old little boy. Written and directed by Smithsonian Institute Award winning director Alejandro Monteverde, LITTLE BOY highlights themes of faith, hope and love in the face of adversity. (C) Open Road  Alejandro Monteverde      Open Road Films  Little Boy  Alejandro Monteverde  Pepe Portillo      Drama   \n",
      "\n",
      "This is for review 67 : \n",
      "Harold Lloyd  Mildred Davis  Bill Strother  Noah Young  W.B. Clarke  Mrs. Anna Townsend  After Charlie Chaplin and Buster Keaton, the silent film era's \"third genius\" was Harold Lloyd, who stars in this Horatio Alger-style story of an average country boy trying to make good in the big city. The Boy (Lloyd) leaves his sweetheart, The Girl (Mildred Davis, later the real-life Mrs. Lloyd) in Great Bend while he pursues his fortune in a teeming metropolis. The Boy lands a job as a clerk at a fabric counter of DeVore's, a huge department store, but he lies in his letters home to his beloved, pretending to be the store's manager and spending his earnings on lavish gifts. The Boy's roommate, The Pal (Bill Strother) makes money as a \"human fly,\" performing attention-getting stunts. Promised $1,000 by DeVore's real manager if he can devise a publicity gimmick, The Boy convinces his friend to climb the 12-story establishment and split the winnings with him. On the day of the event, however, The Pal is busy dodging The Law (Noah Young), forcing The Boy to make the arduous climb solo. Dodging a variety of obstacles, The Boy climbs higher and higher, eventually dangling from the store's clock tower, in the film's most memorable image. ~ Karl Williams, Rovi  Fred Newmeyer  Sam Taylor    Criterion Collection  Safety Last!  Hal Roach  Sam Taylor  Tim Whelan Sr.    Action  Classics  Comedy   \n",
      "\n",
      "This is for review 6557 : \n",
      "James Rolleston  Te Aho Eketone-Whitu  Taika Waititi  Rajvinder Eria  Moerangi Tihore  Cherilee Martin  The year is 1984, and on the rural East Coast of New Zealand \"Thriller\" is changing kids' lives. Inspired by the Oscar nominated Two Cars, One Night, Boy is the hilarious and heartfelt coming-of-age tale about heroes, magic and Michael Jackson. Boy is a dreamer who loves Michael Jackson. He lives with his brother Rocky, a tribe of deserted cousins and his Nan. Boy's other hero, his father, Alamein, is the subject of Boy's fantasies, and he imagines him as a deep sea diver, war hero and a close relation of Michael Jackson (he can even dance like him). In reality he's \"in the can for robbery\". When Alamein returns home after 7 years away, Boy is forced to confront the man he thought he remembered, find his own potential and learn to get along without the hero he had been hoping for. -- (C) Official Site  Taika Waititi      Unison Films  Boy  Taika Waititi        Drama  Comedy   \n",
      "\n",
      "This is the title of the recommended movie Boy and the World (O Menino e o Mundo)  \n",
      "This is the title of the recommended movie Land of the Pharaohs  \n",
      "This is the title of the recommended movie Little Boy  \n",
      "This is the title of the recommended movie Safety Last!  \n",
      "This is the title of the recommended movie Boy  \n"
     ]
    },
    {
     "data": {
      "text/html": [
       "<iframe id=\"igraph\" scrolling=\"no\" style=\"border:none;\" seamless=\"seamless\" src=\"https://plot.ly/~wan19990901/76.embed\" height=\"525px\" width=\"100%\"></iframe>"
      ],
      "text/plain": [
       "<plotly.tools.PlotlyDisplay object>"
      ]
     },
     "execution_count": 139,
     "metadata": {},
     "output_type": "execute_result"
    }
   ],
   "source": [
    "data_m = recommend_movie.fit_transform(r_movie)\n",
    "que_m = recommend_movie.transform(['Boy and the World (O Menino e o Mundo)  ']) \n",
    "knn1 = NearestNeighbors(5,metric='cosine')\n",
    "knn1.fit(data_m)\n",
    "result = knn.kneighbors(que_m)\n",
    "labels = []\n",
    "idx = []\n",
    "for i in result[1][0]:\n",
    "    print('This is for review ' + str(i) + \" : \\n\" + data_movie.iloc[i],'\\n')\n",
    "for i in result[1][0]:\n",
    "    t = movie.iloc[i]['Title']\n",
    "    if(pd.isna(t)):\n",
    "        continue\n",
    "    else:\n",
    "        j = np.argwhere(result[1][0] == i)[0][0]\n",
    "        idx.append(j)\n",
    "        labels.append(t)\n",
    "        print(\"This is the title of the recommended movie \" + t)\n",
    "values = (result[0][0])[idx]\n",
    "colors = ['#FEBFB3', '#E1396C', '#96D38C', '#D0F9B1']\n",
    "trace = go.Pie(labels=labels, values=values,\n",
    "               hoverinfo='label+percent', textinfo='value', \n",
    "               textfont=dict(size=20),\n",
    "               marker=dict(colors=colors, \n",
    "                           line=dict(color='#000000', width=2)))\n",
    "\n",
    "py.iplot([trace], filename='styled_pie_chart')"
   ]
  },
  {
   "cell_type": "code",
   "execution_count": null,
   "metadata": {},
   "outputs": [],
   "source": [
    "model_search.get_scores('SciFi')"
   ]
  },
  {
   "cell_type": "code",
   "execution_count": 114,
   "metadata": {},
   "outputs": [
    {
     "name": "stdout",
     "output_type": "stream",
     "text": [
      "This is for review 14265 : \n",
      "Michael Biehn  Alexandra Daddario  Kathryn Meisle  Nolan Gerard Funk  Brett Rickaby  Spencer List  n 1989, six year old Martin Bristoll was kidnapped from his backyard swing in Minersville Pennsylvania. Graham Sutter, a psychotic recluse, kept Martin imprisoned on his derelict pig farm, forcing him to witness and participate in unspeakable horrors. Chosen at random, his victim's screams were drowned out by the rural countryside. For five years, Martin's whereabouts have remained a mystery, until 17 year old Allison Miller (Alexandra Daddario) comes to live with her Uncle, Jonathan (Michael Biehn). While exploring her new surroundings, Allison discovers things aren't quite right at the farmhouse down the road. Her curiosity disturbs a hornet's nest of evil and despair that once torn open, can never be closed. -- (C) Official Site  Stevan Mena      Crimson Films  Bereavement  Stevan Mena        Horror   \n",
      "\n",
      "This is for review 8934 : \n",
      "Alice Cooper  Shep Gordon  Dee Snider  Dennis Dunaway  Elton John  Iggy Pop  Super Duper Alice Cooper is the twisted tale of a teenage Dr Jekyll whose rock n roll Mr Hyde almost kills him. It is the story of Vincent Furnier, preacher's son, who struck fear into the hearts of parents as Alice Cooper, the ultimate rock star of the bizarre. From the advent of Alice as front man for a group of Phoenix freaks in the 60s to the hazy decadence of celebrity in the 70s to his triumphant comeback as 80s glam metal godfather, we will watch as Alice and Vincent battle for each others' souls. The is the first ever 'doc opera' - a dizzying blend of documentary archive footage, animation and rock opera that will cement forever the legend of Alice Cooper.  Reginald Harkema  Sam Dunn  Scot McFadyen  Banger Films Inc.  Super Duper Alice Cooper  Reginald Harkema  Sam Dunn  Scot McFadyen    Documentary   \n",
      "\n",
      "This is for review 8951 : \n",
      "George A. Romero  Larry Fessenden  Gale Anne Hurd  Elvis Mitchell  Chiz Schultz  Jason Zinoman  n 1968 a young college drop-out and aspiring filmmaker named George A. Romero directed Night of the Living Dead, a low-budget horror film that shocked the world, became an icon of the counterculture, and invented the modern movie zombie, which has spawned legions of films, books, comics, and video games, generating billions of dollars. Night of the Living Dead is not only internationally recognized as an art film, revered for its groundbreaking treatment of American race relations and allegorical references to the Vietnam war, the film still maintains its cult status as a classic horror masterpiece. The film made history when it simultaneously screened at MOMA and the notorious grind-house theater circuit on 42nd Street. Since its release Night of the Living Dead has been selected for preservation by the Library of Congress and the National Film Registry. Rob Kuhns' feature documentary BIRTH OF THE LIVING DEAD goes beyond just being a tribute to director George Romero's work, to explore a critical moment in the American experience and the notion that horror acts as a reflection of national anxiety. The film details how Romero gathered an unlikely team of real Pittsburgh citizens -- police officers, iron workers, teachers, housewives and a roller-rink owner -- to shoot in a revolutionary guerrilla style that became a cinematic landmark and one of the most visceral and influential horror films ever made.(c) First Run  Rob Kuhns      First Run Features  Birth Of The Living Dead  Rob Kuhns        Documentary   \n",
      "\n",
      "This is for review 12341 : \n",
      "Ice Cube  Cuba Gooding Jr.  Morris Chestnut  Laurence Fishburne  Nia Long  Tyra Ferrell  Director John Singleton's debut chronicles the trials and tribulations of three young African-American males growing up in South Central Los Angeles. When young Tre (Cuba Gooding Jr.), a bright underachiever, begins to show signs of trouble, his struggling professional mother (Angela Basset) sends him to live with his father (Lawrence Fishburne), a hard-nosed, no-nonsense disciplinarian. There he befriends Ricky (Morris Chestnut), a burgeoning football star, and Doughboy (Ice Cube, in a standout performance), a would-be gang banger. Over the years, each chooses his own path: Tre seems bound for college; Ricky is a blue-chip running back with his pick of schools; Doughboy is a dope dealer and bona fide gangster who drifts in and out of the county juvenile facility. All is well until, without warning, a rival gang chases down Tre and Ricky with tragic results. Doughboy immediately prepares for revenge, forcing Tre to decide whether to jeopardize his future and, perhaps, his life for the price of revenge and self-respect. Sometimes riveting, Boyz'N the Hood is not without its problems. The film tries to cram every single issue facing the black community into an hour and a half of screen time, making the film seem at times forced. The symbolism seems forced as well, and the film is often unbearably heavy-handed. Also, the characterization often relies on cardboard cut-outs; every white character in the film is a one-dimensional bigot, and the black police officer with whom Tre and his father deal is even worse than his Caucasian counterparts. Still, the unevenness of the film is redeemed by some moments of true brilliance. ~ Jeremy Beday, Rovi  John Singleton      Columbia Pictures  Boyz n the Hood  John Singleton        Drama   \n",
      "\n",
      "This is for review 3180 : \n",
      "Vincius Garcia  Lu Horta  Marco Aurlio Campos        Cuca's cozy rural life is shattered when his father leaves for the city, prompting him to embark on a quest to reunite his family. The young boy's journey unfolds like a tapestry, the animation taking on greater complexity as his small world expands. Entering civilization, industrial landscapes are inhabited by animal-machines, with barrios of decoupage streets and shop windows, and flashing neon advertisements that illuminate the night. The story depicts a clash between village and city, hand crafted and mechanized, rich and poor - and throughout the tumult, the heart and soul of the people beats on as a song. The film's music is on equal footing with the stunning visuals, a soundscape of pan-flute, samba, and Brazilian hip-hop mixing with the whirling carnival colors and exploding fireworks.  Al Abreu      GKIDS  Boy and the World (O Menino e o Mundo)  Al Abreu        nanArt&Foreign   \n",
      "\n",
      "This is the title of the recommended movie Bereavement  \n",
      "This is the title of the recommended movie Super Duper Alice Cooper  \n",
      "This is the title of the recommended movie Birth Of The Living Dead  \n",
      "This is the title of the recommended movie Boyz n the Hood  \n",
      "This is the title of the recommended movie Boy and the World (O Menino e o Mundo)  \n"
     ]
    }
   ],
   "source": [
    "result = np.array(model_recom.get_scores('Brendan Fraser, John Hannah  '))\n",
    "result_order = np.argsort(result)[::-1][:5]\n",
    "labels = []\n",
    "idx = []\n",
    "for i in result_order:\n",
    "    print('This is for review ' + str(i) + \" : \\n\" + data_movie.iloc[i],'\\n')\n",
    "for i in result_order:\n",
    "    t = movie.iloc[i]['Title']\n",
    "    if(pd.isna(t)):\n",
    "        continue\n",
    "    else:\n",
    "        labels.append(t)\n",
    "        print(\"This is the title of the recommended movie \" + t)"
   ]
  },
  {
   "cell_type": "code",
   "execution_count": 85,
   "metadata": {},
   "outputs": [
    {
     "data": {
      "text/plain": [
       "array([12917,  5073,  4114,  5077, 12350])"
      ]
     },
     "execution_count": 85,
     "metadata": {},
     "output_type": "execute_result"
    }
   ],
   "source": [
    "result_order"
   ]
  },
  {
   "cell_type": "code",
   "execution_count": 55,
   "metadata": {},
   "outputs": [
    {
     "ename": "NameError",
     "evalue": "name 'vector_movie' is not defined",
     "output_type": "error",
     "traceback": [
      "\u001b[0;31m---------------------------------------------------------------------------\u001b[0m",
      "\u001b[0;31mNameError\u001b[0m                                 Traceback (most recent call last)",
      "\u001b[0;32m<ipython-input-55-d998b5ef3de0>\u001b[0m in \u001b[0;36m<module>\u001b[0;34m\u001b[0m\n\u001b[0;32m----> 1\u001b[0;31m \u001b[0mdata_m\u001b[0m \u001b[0;34m=\u001b[0m \u001b[0mvector_movie\u001b[0m\u001b[0;34m.\u001b[0m\u001b[0mfit_transform\u001b[0m\u001b[0;34m(\u001b[0m\u001b[0ms_movie\u001b[0m\u001b[0;34m)\u001b[0m\u001b[0;34m\u001b[0m\u001b[0;34m\u001b[0m\u001b[0m\n\u001b[0m\u001b[1;32m      2\u001b[0m \u001b[0mque_m\u001b[0m \u001b[0;34m=\u001b[0m \u001b[0mvector_movie\u001b[0m\u001b[0;34m.\u001b[0m\u001b[0mtransform\u001b[0m\u001b[0;34m(\u001b[0m\u001b[0;34m[\u001b[0m\u001b[0;34m'Boy and the World (O Menino e o Mundo)'\u001b[0m\u001b[0;34m]\u001b[0m\u001b[0;34m)\u001b[0m\u001b[0;34m\u001b[0m\u001b[0;34m\u001b[0m\u001b[0m\n\u001b[1;32m      3\u001b[0m \u001b[0mknn\u001b[0m \u001b[0;34m=\u001b[0m \u001b[0mNearestNeighbors\u001b[0m\u001b[0;34m(\u001b[0m\u001b[0;36m10\u001b[0m\u001b[0;34m,\u001b[0m\u001b[0mmetric\u001b[0m\u001b[0;34m=\u001b[0m\u001b[0;34m'cosine'\u001b[0m\u001b[0;34m)\u001b[0m\u001b[0;34m\u001b[0m\u001b[0;34m\u001b[0m\u001b[0m\n\u001b[1;32m      4\u001b[0m \u001b[0mknn\u001b[0m\u001b[0;34m.\u001b[0m\u001b[0mfit\u001b[0m\u001b[0;34m(\u001b[0m\u001b[0mdata_m\u001b[0m\u001b[0;34m)\u001b[0m\u001b[0;34m\u001b[0m\u001b[0;34m\u001b[0m\u001b[0m\n\u001b[1;32m      5\u001b[0m \u001b[0mresult\u001b[0m \u001b[0;34m=\u001b[0m \u001b[0mknn\u001b[0m\u001b[0;34m\u001b[0m\u001b[0;34m\u001b[0m\u001b[0m\n",
      "\u001b[0;31mNameError\u001b[0m: name 'vector_movie' is not defined"
     ]
    }
   ],
   "source": [
    "data_m = vector_movie.fit_transform(s_movie)\n",
    "que_m = vector_movie.transform(['']) \n",
    "knn = NearestNeighbors(10,metric='cosine')\n",
    "knn.fit(data_m)\n",
    "result = knn\n",
    "labels = []\n",
    "idx = []\n",
    "for i in result[1][0]:\n",
    "    print('This is for review ' + str(i) + \" : \\n\" + data_movie.iloc[i],'\\n')\n",
    "for i in result[1][0]:\n",
    "    t = movie.iloc[i]['Title']\n",
    "    if(pd.isna(t)):\n",
    "        continue\n",
    "    else:\n",
    "        j = np.argwhere(result[1][0] == i)[0][0]\n",
    "        idx.append(j)\n",
    "        labels.append(t)\n",
    "        print(\"This is the title of the recommended movie \" + t)\n",
    "values = (result[0][0])[idx]\n",
    "colors = ['#FEBFB3', '#E1396C', '#96D38C', '#D0F9B1']\n",
    "trace = go.Pie(labels=labels, values=values,\n",
    "               hoverinfo='label+percent', textinfo='value', \n",
    "               textfont=dict(size=20),\n",
    "               marker=dict(colors=colors, \n",
    "                           line=dict(color='#000000', width=2)))\n",
    "\n",
    "py.iplot([trace], filename='styled_pie_chart')"
   ]
  },
  {
   "cell_type": "code",
   "execution_count": null,
   "metadata": {},
   "outputs": [],
   "source": [
    "result.fit('que_m')"
   ]
  },
  {
   "cell_type": "markdown",
   "metadata": {},
   "source": [
    "# idea"
   ]
  },
  {
   "cell_type": "markdown",
   "metadata": {},
   "source": [
    "## We first display the result with any bias (do not refer to any other, if they like, great, if not, we should then ask further, content collabrative filtering), we can also give a general idea for different categories and some interesting facts, produce some graphs as well"
   ]
  },
  {
   "cell_type": "markdown",
   "metadata": {},
   "source": [
    "# Tasks: "
   ]
  },
  {
   "cell_type": "raw",
   "metadata": {},
   "source": [
    "0: Discuss the use of reviews(topic mining to tell what's good and what's a bad movie?)\n",
    "1 : feature averge rating column on movie table(based on critic, number of reviews, etc)\n",
    "2 : further feature engineering to get the columns we need when recoomend\n",
    "3 : Manually add more data from douban dataset, after we choose the things we want to keep for analyze, also feature average score\n",
    "4 : some interesting plots on the things we keep.\n",
    "\n",
    "Future: Kmeans GMM Text clustering on description after searching query, more text preprocessing(N-gram, stemming,etc), create a class for code to make system robust and readable,get website ready and get ready for deployment, Add text summaryizer to the result"
   ]
  },
  {
   "cell_type": "code",
   "execution_count": 144,
   "metadata": {},
   "outputs": [],
   "source": [
    "import pickle"
   ]
  },
  {
   "cell_type": "code",
   "execution_count": 146,
   "metadata": {},
   "outputs": [],
   "source": [
    "pickle.dump(recommend_movie, open('model_recommend.pkl','wb'))"
   ]
  },
  {
   "cell_type": "code",
   "execution_count": null,
   "metadata": {},
   "outputs": [],
   "source": [
    "model = pickle.load(open('model.pkl','rb'))\n"
   ]
  },
  {
   "cell_type": "code",
   "execution_count": 147,
   "metadata": {},
   "outputs": [
    {
     "data": {
      "text/plain": [
       "<15085x29 sparse matrix of type '<class 'numpy.float64'>'\n",
       "\twith 437465 stored elements in Compressed Sparse Row format>"
      ]
     },
     "execution_count": 147,
     "metadata": {},
     "output_type": "execute_result"
    }
   ],
   "source": [
    "data_m"
   ]
  },
  {
   "cell_type": "code",
   "execution_count": null,
   "metadata": {},
   "outputs": [],
   "source": [
    "model.kneighbors(que_m)[1][0]"
   ]
  },
  {
   "cell_type": "code",
   "execution_count": null,
   "metadata": {},
   "outputs": [],
   "source": [
    "movie1 = pd.read_csv('data/all_movie.csv')"
   ]
  },
  {
   "cell_type": "code",
   "execution_count": null,
   "metadata": {},
   "outputs": [],
   "source": [
    "result = get_bm25_weights(s_movie, n_jobs=-1)"
   ]
  },
  {
   "cell_type": "code",
   "execution_count": null,
   "metadata": {},
   "outputs": [],
   "source": [
    "result"
   ]
  },
  {
   "cell_type": "code",
   "execution_count": 53,
   "metadata": {},
   "outputs": [],
   "source": [
    "import pickle\n",
    "model_file = open('model.pkl','wb')"
   ]
  },
  {
   "cell_type": "code",
   "execution_count": null,
   "metadata": {},
   "outputs": [],
   "source": [
    "get_bm25_weights(s_movie,n_jobs=-1)"
   ]
  },
  {
   "cell_type": "code",
   "execution_count": 54,
   "metadata": {},
   "outputs": [],
   "source": [
    "pickle.dump(model,model_file)"
   ]
  },
  {
   "cell_type": "code",
   "execution_count": null,
   "metadata": {},
   "outputs": [],
   "source": [
    "movie.iloc[[1,2,3]]"
   ]
  },
  {
   "cell_type": "code",
   "execution_count": 17,
   "metadata": {},
   "outputs": [],
   "source": [
    "def clean(x):\n",
    "    if(pd.isna(x)):\n",
    "        return x\n",
    "    if(x[:3] == 'nan'):\n",
    "        return x[3:]\n",
    "    return x\n",
    "movie['Genre'] = movie['Genre'].apply(clean)"
   ]
  },
  {
   "cell_type": "code",
   "execution_count": 22,
   "metadata": {},
   "outputs": [],
   "source": [
    "movie['Genre'] = movie['Genre'].fillna('Not Specified')"
   ]
  },
  {
   "cell_type": "code",
   "execution_count": 40,
   "metadata": {},
   "outputs": [],
   "source": [
    "movie = movie[-pd.isna(movie.Description)]"
   ]
  },
  {
   "cell_type": "code",
   "execution_count": 46,
   "metadata": {},
   "outputs": [],
   "source": [
    "movie = movie.drop(movie.columns[:3],axis = 1)"
   ]
  },
  {
   "cell_type": "code",
   "execution_count": 48,
   "metadata": {},
   "outputs": [],
   "source": [
    "movie.to_csv('movie.csv',index = False)"
   ]
  },
  {
   "cell_type": "code",
   "execution_count": null,
   "metadata": {},
   "outputs": [],
   "source": [
    "model = BM25(s_movie)"
   ]
  },
  {
   "cell_type": "code",
   "execution_count": 78,
   "metadata": {},
   "outputs": [
    {
     "data": {
      "text/plain": [
       "array(['Brendan Fraser  ', 'John Hannah  ', 'Maria Bello  ',\n",
       "       'Michelle Yeoh  ', 'Jet Li  ', 'Russell Wong  ', 'Rob Cohen  ',\n",
       "       'Simon Duggan  ', '  ', 'Universal Pictures  ',\n",
       "       'The Mummy: Tomb of the Dragon Emperor  ', 'Alfred Gough  ',\n",
       "       'Miles Millar  ', '  ', '  ', 'Action  Drama  Comedy  ', 5.2],\n",
       "      dtype=object)"
      ]
     },
     "execution_count": 78,
     "metadata": {},
     "output_type": "execute_result"
    }
   ],
   "source": []
  },
  {
   "cell_type": "code",
   "execution_count": 119,
   "metadata": {},
   "outputs": [
    {
     "data": {
      "text/plain": [
       "['Brendan',\n",
       " 'Fraser',\n",
       " 'John',\n",
       " 'Hannah',\n",
       " 'Maria',\n",
       " 'Bello',\n",
       " 'Michelle',\n",
       " 'Yeoh',\n",
       " 'Jet',\n",
       " 'Li',\n",
       " 'Russell',\n",
       " 'Wong',\n",
       " 'The',\n",
       " 'Fast',\n",
       " 'and',\n",
       " 'the',\n",
       " 'Furious',\n",
       " 'director',\n",
       " 'Rob',\n",
       " 'Cohen',\n",
       " 'continues',\n",
       " 'the',\n",
       " 'tale',\n",
       " 'set',\n",
       " 'into',\n",
       " 'motion',\n",
       " 'by',\n",
       " 'director',\n",
       " 'Stephen',\n",
       " 'Sommers',\n",
       " 'with',\n",
       " 'this',\n",
       " 'globe-trotting',\n",
       " 'adventure',\n",
       " 'that',\n",
       " 'finds',\n",
       " 'explorer',\n",
       " 'Rick',\n",
       " \"O'Connell\",\n",
       " 'and',\n",
       " 'son',\n",
       " 'attempting',\n",
       " 'to',\n",
       " 'thwart',\n",
       " 'a',\n",
       " 'resurrected',\n",
       " \"emperor's\",\n",
       " '(Jet',\n",
       " 'Li)',\n",
       " 'plan',\n",
       " 'to',\n",
       " 'enslave',\n",
       " 'the',\n",
       " 'entire',\n",
       " 'human',\n",
       " 'race.',\n",
       " \"It's\",\n",
       " 'been',\n",
       " '2,000',\n",
       " 'years',\n",
       " 'since',\n",
       " \"China's\",\n",
       " 'merciless',\n",
       " 'Emperor',\n",
       " 'Han',\n",
       " 'and',\n",
       " 'his',\n",
       " 'formidable',\n",
       " 'army',\n",
       " 'were',\n",
       " 'entombed',\n",
       " 'in',\n",
       " 'terra',\n",
       " 'cotta',\n",
       " 'clay',\n",
       " 'by',\n",
       " 'a',\n",
       " 'double-dealing',\n",
       " 'sorceress',\n",
       " '(Michelle',\n",
       " 'Yeoh),',\n",
       " 'but',\n",
       " 'now,',\n",
       " 'after',\n",
       " 'centuries',\n",
       " 'in',\n",
       " 'suspended',\n",
       " 'animation,',\n",
       " 'an',\n",
       " 'ancient',\n",
       " 'curse',\n",
       " 'is',\n",
       " 'about',\n",
       " 'to',\n",
       " 'be',\n",
       " 'broken.',\n",
       " 'Thanks',\n",
       " 'to',\n",
       " 'his',\n",
       " 'childhood',\n",
       " 'adventures',\n",
       " 'alongside',\n",
       " 'father',\n",
       " 'Rick',\n",
       " '(Brendan',\n",
       " 'Fraser)',\n",
       " 'and',\n",
       " 'mother',\n",
       " 'Evelyn',\n",
       " '(Maria',\n",
       " 'Bello),',\n",
       " 'dashing',\n",
       " 'young',\n",
       " 'archeologist',\n",
       " 'Alex',\n",
       " \"O'Connell\",\n",
       " '(Luke',\n",
       " 'Ford)',\n",
       " 'is',\n",
       " 'more',\n",
       " 'than',\n",
       " 'familiar',\n",
       " 'with',\n",
       " 'the',\n",
       " 'power',\n",
       " 'of',\n",
       " 'the',\n",
       " 'supernatural.',\n",
       " 'After',\n",
       " 'he',\n",
       " 'is',\n",
       " 'tricked',\n",
       " 'into',\n",
       " 'awakening',\n",
       " 'the',\n",
       " 'dreaded',\n",
       " 'emperor',\n",
       " 'from',\n",
       " 'his',\n",
       " 'eternal',\n",
       " 'slumber,',\n",
       " 'however,',\n",
       " 'the',\n",
       " 'frightened',\n",
       " 'young',\n",
       " 'adventurer',\n",
       " 'is',\n",
       " 'forced',\n",
       " 'to',\n",
       " 'seek',\n",
       " 'out',\n",
       " 'the',\n",
       " 'wisdom',\n",
       " 'of',\n",
       " 'his',\n",
       " 'parents',\n",
       " '--',\n",
       " 'both',\n",
       " 'of',\n",
       " 'whom',\n",
       " 'have',\n",
       " 'had',\n",
       " 'their',\n",
       " 'fair',\n",
       " 'share',\n",
       " 'of',\n",
       " 'experience',\n",
       " 'battling',\n",
       " 'the',\n",
       " 'legions',\n",
       " 'of',\n",
       " 'the',\n",
       " 'undead.',\n",
       " 'Should',\n",
       " 'the',\n",
       " 'fierce',\n",
       " 'monarch',\n",
       " 'prove',\n",
       " 'capable',\n",
       " 'of',\n",
       " 'awakening',\n",
       " 'his',\n",
       " 'powerful',\n",
       " 'terra',\n",
       " 'cotta',\n",
       " 'army,',\n",
       " 'his',\n",
       " 'diabolical',\n",
       " 'plan',\n",
       " 'for',\n",
       " 'world',\n",
       " 'domination',\n",
       " 'will',\n",
       " 'finally',\n",
       " 'be',\n",
       " 'set',\n",
       " 'into',\n",
       " 'motion.',\n",
       " 'Of',\n",
       " 'course,',\n",
       " 'the',\n",
       " 'one',\n",
       " 'factor',\n",
       " 'that',\n",
       " 'this',\n",
       " 'emperor',\n",
       " 'mummy',\n",
       " 'failed',\n",
       " 'to',\n",
       " 'consider',\n",
       " 'while',\n",
       " 'solidifying',\n",
       " 'his',\n",
       " 'power-mad',\n",
       " 'plans',\n",
       " 'was',\n",
       " 'the',\n",
       " \"O'Connells,\",\n",
       " 'and',\n",
       " 'before',\n",
       " 'this',\n",
       " 'battle',\n",
       " 'is',\n",
       " 'over,',\n",
       " 'the',\n",
       " 'monstrous',\n",
       " 'monarch',\n",
       " 'will',\n",
       " 'be',\n",
       " 'forced',\n",
       " 'to',\n",
       " 'contend',\n",
       " 'with',\n",
       " 'the',\n",
       " 'one',\n",
       " 'family',\n",
       " 'that',\n",
       " \"isn't\",\n",
       " 'frightened',\n",
       " 'by',\n",
       " 'a',\n",
       " 'few',\n",
       " 'rickety',\n",
       " 'reanimated',\n",
       " 'corpses.',\n",
       " '~',\n",
       " 'Jason',\n",
       " 'Buchanan,',\n",
       " 'Rovi',\n",
       " 'Rob',\n",
       " 'Cohen',\n",
       " 'Simon',\n",
       " 'Duggan',\n",
       " 'Universal',\n",
       " 'Pictures',\n",
       " 'The',\n",
       " 'Mummy:',\n",
       " 'Tomb',\n",
       " 'of',\n",
       " 'the',\n",
       " 'Dragon',\n",
       " 'Emperor',\n",
       " 'Alfred',\n",
       " 'Gough',\n",
       " 'Miles',\n",
       " 'Millar',\n",
       " 'Action',\n",
       " 'Drama',\n",
       " 'Comedy']"
      ]
     },
     "execution_count": 119,
     "metadata": {},
     "output_type": "execute_result"
    }
   ],
   "source": [
    "r_movie[0]"
   ]
  },
  {
   "cell_type": "code",
   "execution_count": null,
   "metadata": {},
   "outputs": [],
   "source": []
  }
 ],
 "metadata": {
  "kernelspec": {
   "display_name": "Python 3",
   "language": "python",
   "name": "python3"
  },
  "language_info": {
   "codemirror_mode": {
    "name": "ipython",
    "version": 3
   },
   "file_extension": ".py",
   "mimetype": "text/x-python",
   "name": "python",
   "nbconvert_exporter": "python",
   "pygments_lexer": "ipython3",
   "version": "3.7.2"
  }
 },
 "nbformat": 4,
 "nbformat_minor": 2
}
