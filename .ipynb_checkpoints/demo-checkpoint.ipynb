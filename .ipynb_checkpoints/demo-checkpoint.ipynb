{
 "cells": [
  {
   "cell_type": "code",
   "execution_count": 168,
   "metadata": {},
   "outputs": [],
   "source": [
    "search_movie = TfidfVectorizer(stop_words=set(stopwords.words('english')),analyzer= 'word')\n",
    "recommend_movie = TfidfVectorizer(stop_words=set(stopwords.words('english')),max_df=0.9,analyzer= 'word')"
   ]
  },
  {
   "cell_type": "code",
   "execution_count": 51,
   "metadata": {},
   "outputs": [],
   "source": [
    "import pandas as pd\n",
    "import numpy as np\n",
    "import matplotlib.pyplot as plt\n",
    "from sklearn.feature_extraction.text import TfidfVectorizer,CountVectorizer\n",
    "from sklearn.neighbors import NearestNeighbors\n",
    "%matplotlib inline\n",
    "import nltk\n",
    "from nltk.corpus import stopwords\n",
    "import plotly.graph_objs as go\n",
    "from plotly import tools\n",
    "from plotly.offline import download_plotlyjs, init_notebook_mode, plot, iplot\n",
    "import plotly.plotly as py\n",
    "from gensim.summarization.bm25 import get_bm25_weights\n",
    "from gensim.summarization.bm25 import BM25"
   ]
  },
  {
   "cell_type": "code",
   "execution_count": 172,
   "metadata": {},
   "outputs": [],
   "source": [
    "recommend_movie = recommend_movie.fit(r_movie)"
   ]
  },
  {
   "cell_type": "code",
   "execution_count": 171,
   "metadata": {},
   "outputs": [
    {
     "data": {
      "text/plain": [
       "TfidfVectorizer(analyzer='word', binary=False, decode_error='strict',\n",
       "        dtype=<class 'numpy.float64'>, encoding='utf-8', input='content',\n",
       "        lowercase=True, max_df=0.9, max_features=None, min_df=1,\n",
       "        ngram_range=(1, 1), norm='l2', preprocessor=None, smooth_idf=True,\n",
       "        stop_words={'for', 'couldn', 't', 'my', 'herself', 'mustn', 'of', 'any', \"you'd\", 'same', \"that'll\", 'haven', \"mustn't\", 'has', 've', 'very', 'because', 'isn', 'other', 'under', 'an', \"mightn't\", 'them', 'your', 'out', 'where', 'd', 'with', 'i', 'what', \"you'll\", \"she's\", \"hasn't\", 'above', 'be', 'a... 'between', 'itself', 'does', 'myself', 'now', 'himself', 'most', \"haven't\", 'shan', 'am', \"hadn't\"},\n",
       "        strip_accents=None, sublinear_tf=False,\n",
       "        token_pattern='(?u)\\\\b\\\\w\\\\w+\\\\b', tokenizer=None, use_idf=True,\n",
       "        vocabulary=None)"
      ]
     },
     "execution_count": 171,
     "metadata": {},
     "output_type": "execute_result"
    }
   ],
   "source": [
    "recommend_movie"
   ]
  },
  {
   "cell_type": "code",
   "execution_count": 197,
   "metadata": {},
   "outputs": [
    {
     "name": "stdout",
     "output_type": "stream",
     "text": [
      "This is for review 7642 : \n",
      "Miley Cyrus  Demi Moore  Ashley Greene  Douglas Booth  Adam G. Sevani  Thomas Jane  An authentic story that perfectly captures coming of age in today's digital world, LOL is a remake of the hugely popular 2008 French film LOL (Laughing Out Loud). Starting a new year of high school, Lola (Miley Cyrus), (or \"Lol,\" as her friends call her), works to find the right balance between family, school, friends and romance. Broken-hearted by her ex, Lol's world is soon turned upside down when she is surprised to find her best friend, Kyle (Douglas Booth), a musician in an up and coming rock band, could possibly be the love of her life. In her quest towards independence, self-identity and young adulthood, Lol discovers that while Facebook \"status\" is easy to change; true relationships are worth the effort. -- (C) Lionsgate  Liza Azuelos  Lisa Azuelos    Lionsgate Films  LOL  Liza Azuelos  Lisa Azuelos  Karim Anouz    Comedy   \n",
      "\n",
      "This is for review 10058 : \n",
      "Bill Zebub  Fred Vogel  Erik Marcisak  Carol J. Clover  Debbie D    Soft for Digging and Mimic: Sentinel director J.T. Petty blurs the line between fact and fiction while exploring the connection between voyeurism and horror films by speaking with both the people who make them and the scholars who study them. In addition to delving into such issues as objectivity/subjectivity, audience sympathy, and what the need to be scared says about the viewer, Petty backs up his theory about voyeurism's connection to horror by exploring the case of a filmmaker whose eerie, shot-on-video horror films display an unsettling level of realism.  J.T. Petty      Magnolia Pictures  S&Man  J.T. Petty        Documentary  Horror   \n",
      "\n",
      "This is for review 10057 : \n",
      "Werner Herzog            The good old dinosaur, gets a makeover and then some in this fantastically ambitious and groundbreaking documentary. Based on cutting-edge palaeontology and the latest fossil records, DINOTASIA presents a series of vignettes about dinosaurs - both familiar faces and some we have only found out about in the past ten years. Werner Herzog narrates, reuniting with the team behind GRIZZLY MAN and CAVE OF FORGOTTEN DREAMS. (c) Official Site  David Krentz  Erik Nelson    Revolver Entertainment  Dinotasia  David Krentz  Erik Nelson      Documentary   \n",
      "\n",
      "This is for review 10055 : \n",
      "Dane DeHaan  James Hetfield  Kirk Hammett  Lars Ulrich  Robert Trujillo  Jeremy Raymond  Award-winning filmmaker Nimrd Antal (Predators, Kontroll) creates a groundbreaking 3-D motion picture event, Metallica Through the Never. The music-driven feature film combines a bold narrative and spectacular live-performance footage of one of the most popular and influential rock bands in history to produce a bracing, raw andvisceral cinematic experience. Emerging young star Dane DeHaan (The Place Beyond the Pines, Kill Your Darlings, The Amazing Spider-Man 2) portrays Trip, a young roadie sent on an urgent mission during Metallica's roaring live set in front of a sold-out arena. (c) Picturehouse  Nimrd Antal      Picturehouse Films  Metallica Through the Never  Nimrd Antal  Robert Trujillo  James Hetfield  Lars Ulrich  Documentary  Mystery   \n",
      "\n",
      "This is for review 10053 : \n",
      "Melissa Anelli  Heather Lawver  Brad Neely        As the popularity of author J.K. Rowling's Harry Potter series expands to create a whole new breed of rabid fantasy fanatics, filmmaker Josh Koury explores the curious culture that has emerged around the most instantly recognizable young wizard in the history of youth fiction. ~ Jason Buchanan, Rovi  Josh Koury      Brooklyn Underground  We are Wizards          Documentary   \n",
      "\n"
     ]
    },
    {
     "data": {
      "text/html": [
       "<iframe id=\"igraph\" scrolling=\"no\" style=\"border:none;\" seamless=\"seamless\" src=\"https://plot.ly/~wan19990901/76.embed\" height=\"525px\" width=\"100%\"></iframe>"
      ],
      "text/plain": [
       "<plotly.tools.PlotlyDisplay object>"
      ]
     },
     "execution_count": 197,
     "metadata": {},
     "output_type": "execute_result"
    }
   ],
   "source": [
    "que_m = recommend_movie.transform(['lol']) \n",
    "# knn1 = NearestNeighbors(5,metric='cosine')\n",
    "# knn1.fit(data_m)\n",
    "result = knn.kneighbors(que_m)\n",
    "labels = []\n",
    "idx = []\n",
    "for i in result[1][0]:\n",
    "    print('This is for review ' + str(i) + \" : \\n\" + data_movie.iloc[i],'\\n')\n",
    "for i in result[1][0]:\n",
    "    t = movie.iloc[i]['Title']\n",
    "    if(pd.isna(t)):\n",
    "        continue\n",
    "    else:\n",
    "        j = np.argwhere(result[1][0] == i)[0][0]\n",
    "        if(int(result[0][0][j]) == 1):\n",
    "            continue\n",
    "        else:\n",
    "            l = [t,data_movie.iloc[i]]\n",
    "#             info.append([movie['scores'].iloc[i],movie['Genre'].iloc[i],l,movie['url'].iloc[i]])\n",
    "            idx.append(j)\n",
    "            labels.append(t)\n",
    "values = (result[0][0])[idx]\n",
    "colors = ['#FEBFB3', '#E1396C', '#96D38C', '#D0F9B1']\n",
    "trace = go.Pie(labels=labels, values=values,\n",
    "               hoverinfo='label+percent', textinfo='value', \n",
    "               textfont=dict(size=20),\n",
    "               marker=dict(colors=colors, \n",
    "                           line=dict(color='#000000', width=2)))\n",
    "\n",
    "py.iplot([trace], filename='styled_pie_chart')"
   ]
  },
  {
   "cell_type": "code",
   "execution_count": 204,
   "metadata": {},
   "outputs": [
    {
     "data": {
      "text/plain": [
       "True"
      ]
     },
     "execution_count": 204,
     "metadata": {},
     "output_type": "execute_result"
    }
   ],
   "source": [
    "result[0][0][4] == 1"
   ]
  },
  {
   "cell_type": "code",
   "execution_count": 196,
   "metadata": {},
   "outputs": [
    {
     "data": {
      "text/plain": [
       "['LOL  ']"
      ]
     },
     "execution_count": 196,
     "metadata": {},
     "output_type": "execute_result"
    }
   ],
   "source": [
    "labels"
   ]
  },
  {
   "cell_type": "code",
   "execution_count": 114,
   "metadata": {},
   "outputs": [
    {
     "name": "stdout",
     "output_type": "stream",
     "text": [
      "This is for review 14265 : \n",
      "Michael Biehn  Alexandra Daddario  Kathryn Meisle  Nolan Gerard Funk  Brett Rickaby  Spencer List  n 1989, six year old Martin Bristoll was kidnapped from his backyard swing in Minersville Pennsylvania. Graham Sutter, a psychotic recluse, kept Martin imprisoned on his derelict pig farm, forcing him to witness and participate in unspeakable horrors. Chosen at random, his victim's screams were drowned out by the rural countryside. For five years, Martin's whereabouts have remained a mystery, until 17 year old Allison Miller (Alexandra Daddario) comes to live with her Uncle, Jonathan (Michael Biehn). While exploring her new surroundings, Allison discovers things aren't quite right at the farmhouse down the road. Her curiosity disturbs a hornet's nest of evil and despair that once torn open, can never be closed. -- (C) Official Site  Stevan Mena      Crimson Films  Bereavement  Stevan Mena        Horror   \n",
      "\n",
      "This is for review 8934 : \n",
      "Alice Cooper  Shep Gordon  Dee Snider  Dennis Dunaway  Elton John  Iggy Pop  Super Duper Alice Cooper is the twisted tale of a teenage Dr Jekyll whose rock n roll Mr Hyde almost kills him. It is the story of Vincent Furnier, preacher's son, who struck fear into the hearts of parents as Alice Cooper, the ultimate rock star of the bizarre. From the advent of Alice as front man for a group of Phoenix freaks in the 60s to the hazy decadence of celebrity in the 70s to his triumphant comeback as 80s glam metal godfather, we will watch as Alice and Vincent battle for each others' souls. The is the first ever 'doc opera' - a dizzying blend of documentary archive footage, animation and rock opera that will cement forever the legend of Alice Cooper.  Reginald Harkema  Sam Dunn  Scot McFadyen  Banger Films Inc.  Super Duper Alice Cooper  Reginald Harkema  Sam Dunn  Scot McFadyen    Documentary   \n",
      "\n",
      "This is for review 8951 : \n",
      "George A. Romero  Larry Fessenden  Gale Anne Hurd  Elvis Mitchell  Chiz Schultz  Jason Zinoman  n 1968 a young college drop-out and aspiring filmmaker named George A. Romero directed Night of the Living Dead, a low-budget horror film that shocked the world, became an icon of the counterculture, and invented the modern movie zombie, which has spawned legions of films, books, comics, and video games, generating billions of dollars. Night of the Living Dead is not only internationally recognized as an art film, revered for its groundbreaking treatment of American race relations and allegorical references to the Vietnam war, the film still maintains its cult status as a classic horror masterpiece. The film made history when it simultaneously screened at MOMA and the notorious grind-house theater circuit on 42nd Street. Since its release Night of the Living Dead has been selected for preservation by the Library of Congress and the National Film Registry. Rob Kuhns' feature documentary BIRTH OF THE LIVING DEAD goes beyond just being a tribute to director George Romero's work, to explore a critical moment in the American experience and the notion that horror acts as a reflection of national anxiety. The film details how Romero gathered an unlikely team of real Pittsburgh citizens -- police officers, iron workers, teachers, housewives and a roller-rink owner -- to shoot in a revolutionary guerrilla style that became a cinematic landmark and one of the most visceral and influential horror films ever made.(c) First Run  Rob Kuhns      First Run Features  Birth Of The Living Dead  Rob Kuhns        Documentary   \n",
      "\n",
      "This is for review 12341 : \n",
      "Ice Cube  Cuba Gooding Jr.  Morris Chestnut  Laurence Fishburne  Nia Long  Tyra Ferrell  Director John Singleton's debut chronicles the trials and tribulations of three young African-American males growing up in South Central Los Angeles. When young Tre (Cuba Gooding Jr.), a bright underachiever, begins to show signs of trouble, his struggling professional mother (Angela Basset) sends him to live with his father (Lawrence Fishburne), a hard-nosed, no-nonsense disciplinarian. There he befriends Ricky (Morris Chestnut), a burgeoning football star, and Doughboy (Ice Cube, in a standout performance), a would-be gang banger. Over the years, each chooses his own path: Tre seems bound for college; Ricky is a blue-chip running back with his pick of schools; Doughboy is a dope dealer and bona fide gangster who drifts in and out of the county juvenile facility. All is well until, without warning, a rival gang chases down Tre and Ricky with tragic results. Doughboy immediately prepares for revenge, forcing Tre to decide whether to jeopardize his future and, perhaps, his life for the price of revenge and self-respect. Sometimes riveting, Boyz'N the Hood is not without its problems. The film tries to cram every single issue facing the black community into an hour and a half of screen time, making the film seem at times forced. The symbolism seems forced as well, and the film is often unbearably heavy-handed. Also, the characterization often relies on cardboard cut-outs; every white character in the film is a one-dimensional bigot, and the black police officer with whom Tre and his father deal is even worse than his Caucasian counterparts. Still, the unevenness of the film is redeemed by some moments of true brilliance. ~ Jeremy Beday, Rovi  John Singleton      Columbia Pictures  Boyz n the Hood  John Singleton        Drama   \n",
      "\n",
      "This is for review 3180 : \n",
      "Vincius Garcia  Lu Horta  Marco Aurlio Campos        Cuca's cozy rural life is shattered when his father leaves for the city, prompting him to embark on a quest to reunite his family. The young boy's journey unfolds like a tapestry, the animation taking on greater complexity as his small world expands. Entering civilization, industrial landscapes are inhabited by animal-machines, with barrios of decoupage streets and shop windows, and flashing neon advertisements that illuminate the night. The story depicts a clash between village and city, hand crafted and mechanized, rich and poor - and throughout the tumult, the heart and soul of the people beats on as a song. The film's music is on equal footing with the stunning visuals, a soundscape of pan-flute, samba, and Brazilian hip-hop mixing with the whirling carnival colors and exploding fireworks.  Al Abreu      GKIDS  Boy and the World (O Menino e o Mundo)  Al Abreu        nanArt&Foreign   \n",
      "\n",
      "This is the title of the recommended movie Bereavement  \n",
      "This is the title of the recommended movie Super Duper Alice Cooper  \n",
      "This is the title of the recommended movie Birth Of The Living Dead  \n",
      "This is the title of the recommended movie Boyz n the Hood  \n",
      "This is the title of the recommended movie Boy and the World (O Menino e o Mundo)  \n"
     ]
    }
   ],
   "source": [
    "result = np.array(model_recom.get_scores('Brendan Fraser, John Hannah  '))\n",
    "result_order = np.argsort(result)[::-1][:5]\n",
    "labels = []\n",
    "idx = []\n",
    "for i in result_order:\n",
    "    print('This is for review ' + str(i) + \" : \\n\" + data_movie.iloc[i],'\\n')\n",
    "for i in result_order:\n",
    "    t = movie.iloc[i]['Title']\n",
    "    if(pd.isna(t)):\n",
    "        continue\n",
    "    else:\n",
    "        labels.append(t)\n",
    "        print(\"This is the title of the recommended movie \" + t)"
   ]
  },
  {
   "cell_type": "code",
   "execution_count": 85,
   "metadata": {},
   "outputs": [
    {
     "data": {
      "text/plain": [
       "array([12917,  5073,  4114,  5077, 12350])"
      ]
     },
     "execution_count": 85,
     "metadata": {},
     "output_type": "execute_result"
    }
   ],
   "source": [
    "result_order"
   ]
  },
  {
   "cell_type": "code",
   "execution_count": 184,
   "metadata": {},
   "outputs": [
    {
     "ename": "NameError",
     "evalue": "name 'vector_movie' is not defined",
     "output_type": "error",
     "traceback": [
      "\u001b[0;31m---------------------------------------------------------------------------\u001b[0m",
      "\u001b[0;31mNameError\u001b[0m                                 Traceback (most recent call last)",
      "\u001b[0;32m<ipython-input-184-c1cb14e899a8>\u001b[0m in \u001b[0;36m<module>\u001b[0;34m\u001b[0m\n\u001b[0;32m----> 1\u001b[0;31m \u001b[0mdata_m\u001b[0m \u001b[0;34m=\u001b[0m \u001b[0mvector_movie\u001b[0m\u001b[0;34m.\u001b[0m\u001b[0mfit_transform\u001b[0m\u001b[0;34m(\u001b[0m\u001b[0ms_movie\u001b[0m\u001b[0;34m)\u001b[0m\u001b[0;34m\u001b[0m\u001b[0;34m\u001b[0m\u001b[0m\n\u001b[0m\u001b[1;32m      2\u001b[0m \u001b[0mque_m\u001b[0m \u001b[0;34m=\u001b[0m \u001b[0mvector_movie\u001b[0m\u001b[0;34m.\u001b[0m\u001b[0mtransform\u001b[0m\u001b[0;34m(\u001b[0m\u001b[0;34m[\u001b[0m\u001b[0;34m'lol'\u001b[0m\u001b[0;34m]\u001b[0m\u001b[0;34m)\u001b[0m\u001b[0;34m\u001b[0m\u001b[0;34m\u001b[0m\u001b[0m\n\u001b[1;32m      3\u001b[0m \u001b[0mknn\u001b[0m \u001b[0;34m=\u001b[0m \u001b[0mNearestNeighbors\u001b[0m\u001b[0;34m(\u001b[0m\u001b[0;36m10\u001b[0m\u001b[0;34m,\u001b[0m\u001b[0mmetric\u001b[0m\u001b[0;34m=\u001b[0m\u001b[0;34m'cosine'\u001b[0m\u001b[0;34m)\u001b[0m\u001b[0;34m\u001b[0m\u001b[0;34m\u001b[0m\u001b[0m\n\u001b[1;32m      4\u001b[0m \u001b[0mknn\u001b[0m\u001b[0;34m.\u001b[0m\u001b[0mfit\u001b[0m\u001b[0;34m(\u001b[0m\u001b[0mdata_m\u001b[0m\u001b[0;34m)\u001b[0m\u001b[0;34m\u001b[0m\u001b[0;34m\u001b[0m\u001b[0m\n\u001b[1;32m      5\u001b[0m \u001b[0mresult\u001b[0m \u001b[0;34m=\u001b[0m \u001b[0mknn\u001b[0m\u001b[0;34m\u001b[0m\u001b[0;34m\u001b[0m\u001b[0m\n",
      "\u001b[0;31mNameError\u001b[0m: name 'vector_movie' is not defined"
     ]
    }
   ],
   "source": [
    "data_m = vector_movie.fit_transform(s_movie)\n",
    "que_m = vector_movie.transform(['lol']) \n",
    "knn = NearestNeighbors(10,metric='cosine')\n",
    "knn.fit(data_m)\n",
    "result = knn\n",
    "labels = []\n",
    "idx = []\n",
    "for i in result[1][0]:\n",
    "    print('This is for review ' + str(i) + \" : \\n\" + data_movie.iloc[i],'\\n')\n",
    "for i in result[1][0]:\n",
    "    t = movie.iloc[i]['Title']\n",
    "    if(pd.isna(t)):\n",
    "        continue\n",
    "    else:\n",
    "        j = np.argwhere(result[1][0] == i)[0][0]\n",
    "        idx.append(j)\n",
    "        labels.append(t)\n",
    "        print(\"This is the title of the recommended movie \" + t)\n",
    "values = (result[0][0])[idx]\n",
    "colors = ['#FEBFB3', '#E1396C', '#96D38C', '#D0F9B1']\n",
    "trace = go.Pie(labels=labels, values=values,\n",
    "               hoverinfo='label+percent', textinfo='value', \n",
    "               textfont=dict(size=20),\n",
    "               marker=dict(colors=colors, \n",
    "                           line=dict(color='#000000', width=2)))\n",
    "\n",
    "py.iplot([trace], filename='styled_pie_chart')"
   ]
  },
  {
   "cell_type": "code",
   "execution_count": 183,
   "metadata": {},
   "outputs": [
    {
     "data": {
      "text/plain": [
       "array([0.76478331, 0.87635777, 0.88448803, 0.913603  , 0.91427124])"
      ]
     },
     "execution_count": 183,
     "metadata": {},
     "output_type": "execute_result"
    }
   ],
   "source": [
    "result[0][0]"
   ]
  },
  {
   "cell_type": "markdown",
   "metadata": {},
   "source": [
    "# idea"
   ]
  },
  {
   "cell_type": "markdown",
   "metadata": {},
   "source": [
    "## We first display the result with any bias (do not refer to any other, if they like, great, if not, we should then ask further, content collabrative filtering), we can also give a general idea for different categories and some interesting facts, produce some graphs as well"
   ]
  },
  {
   "cell_type": "markdown",
   "metadata": {},
   "source": [
    "# Tasks: "
   ]
  },
  {
   "cell_type": "raw",
   "metadata": {},
   "source": [
    "0: Discuss the use of reviews(topic mining to tell what's good and what's a bad movie?)\n",
    "1 : feature averge rating column on movie table(based on critic, number of reviews, etc)\n",
    "2 : further feature engineering to get the columns we need when recoomend\n",
    "3 : Manually add more data from douban dataset, after we choose the things we want to keep for analyze, also feature average score\n",
    "4 : some interesting plots on the things we keep.\n",
    "\n",
    "Future: Kmeans GMM Text clustering on description after searching query, more text preprocessing(N-gram, stemming,etc), create a class for code to make system robust and readable,get website ready and get ready for deployment, Add text summaryizer to the result"
   ]
  },
  {
   "cell_type": "code",
   "execution_count": 144,
   "metadata": {},
   "outputs": [],
   "source": [
    "import pickle"
   ]
  },
  {
   "cell_type": "code",
   "execution_count": 175,
   "metadata": {},
   "outputs": [],
   "source": [
    "pickle.dump(recommend_movie, open('model_recommend.pkl','wb'))\n",
    "pickle.dump(knn1, open('model.pkl','wb'))"
   ]
  },
  {
   "cell_type": "code",
   "execution_count": null,
   "metadata": {},
   "outputs": [],
   "source": [
    "model = pickle.load(open('model.pkl','rb'))\n"
   ]
  },
  {
   "cell_type": "code",
   "execution_count": 147,
   "metadata": {},
   "outputs": [
    {
     "data": {
      "text/plain": [
       "<15085x29 sparse matrix of type '<class 'numpy.float64'>'\n",
       "\twith 437465 stored elements in Compressed Sparse Row format>"
      ]
     },
     "execution_count": 147,
     "metadata": {},
     "output_type": "execute_result"
    }
   ],
   "source": [
    "data_m"
   ]
  },
  {
   "cell_type": "code",
   "execution_count": 176,
   "metadata": {},
   "outputs": [
    {
     "data": {
      "text/plain": [
       "array([ 3180,  1374, 12566,    67,  6557])"
      ]
     },
     "execution_count": 176,
     "metadata": {},
     "output_type": "execute_result"
    }
   ],
   "source": [
    "knn.kneighbors(que_m)[1][0]"
   ]
  },
  {
   "cell_type": "code",
   "execution_count": null,
   "metadata": {},
   "outputs": [],
   "source": [
    "movie1 = pd.read_csv('data/all_movie.csv')"
   ]
  },
  {
   "cell_type": "code",
   "execution_count": null,
   "metadata": {},
   "outputs": [],
   "source": [
    "result = get_bm25_weights(s_movie, n_jobs=-1)"
   ]
  },
  {
   "cell_type": "code",
   "execution_count": null,
   "metadata": {},
   "outputs": [],
   "source": [
    "result"
   ]
  },
  {
   "cell_type": "code",
   "execution_count": 53,
   "metadata": {},
   "outputs": [],
   "source": [
    "import pickle\n",
    "model_file = open('model.pkl','wb')"
   ]
  },
  {
   "cell_type": "code",
   "execution_count": null,
   "metadata": {},
   "outputs": [],
   "source": [
    "get_bm25_weights(s_movie,n_jobs=-1)"
   ]
  },
  {
   "cell_type": "code",
   "execution_count": 54,
   "metadata": {},
   "outputs": [],
   "source": [
    "pickle.dump(model,model_file)"
   ]
  },
  {
   "cell_type": "code",
   "execution_count": null,
   "metadata": {},
   "outputs": [],
   "source": [
    "movie.iloc[[1,2,3]]"
   ]
  },
  {
   "cell_type": "code",
   "execution_count": 17,
   "metadata": {},
   "outputs": [],
   "source": [
    "def clean(x):\n",
    "    if(pd.isna(x)):\n",
    "        return x\n",
    "    if(x[:3] == 'nan'):\n",
    "        return x[3:]\n",
    "    return x\n",
    "movie['Genre'] = movie['Genre'].apply(clean)"
   ]
  },
  {
   "cell_type": "code",
   "execution_count": 22,
   "metadata": {},
   "outputs": [],
   "source": [
    "movie['Genre'] = movie['Genre'].fillna('Not Specified')"
   ]
  },
  {
   "cell_type": "code",
   "execution_count": 40,
   "metadata": {},
   "outputs": [],
   "source": [
    "movie = movie[-pd.isna(movie.Description)]"
   ]
  },
  {
   "cell_type": "code",
   "execution_count": 46,
   "metadata": {},
   "outputs": [],
   "source": [
    "movie = movie.drop(movie.columns[:3],axis = 1)"
   ]
  },
  {
   "cell_type": "code",
   "execution_count": 48,
   "metadata": {},
   "outputs": [],
   "source": [
    "movie.to_csv('movie.csv',index = False)"
   ]
  },
  {
   "cell_type": "code",
   "execution_count": null,
   "metadata": {},
   "outputs": [],
   "source": [
    "model = BM25(s_movie)"
   ]
  },
  {
   "cell_type": "code",
   "execution_count": 78,
   "metadata": {},
   "outputs": [
    {
     "data": {
      "text/plain": [
       "array(['Brendan Fraser  ', 'John Hannah  ', 'Maria Bello  ',\n",
       "       'Michelle Yeoh  ', 'Jet Li  ', 'Russell Wong  ', 'Rob Cohen  ',\n",
       "       'Simon Duggan  ', '  ', 'Universal Pictures  ',\n",
       "       'The Mummy: Tomb of the Dragon Emperor  ', 'Alfred Gough  ',\n",
       "       'Miles Millar  ', '  ', '  ', 'Action  Drama  Comedy  ', 5.2],\n",
       "      dtype=object)"
      ]
     },
     "execution_count": 78,
     "metadata": {},
     "output_type": "execute_result"
    }
   ],
   "source": []
  },
  {
   "cell_type": "code",
   "execution_count": 119,
   "metadata": {},
   "outputs": [
    {
     "data": {
      "text/plain": [
       "['Brendan',\n",
       " 'Fraser',\n",
       " 'John',\n",
       " 'Hannah',\n",
       " 'Maria',\n",
       " 'Bello',\n",
       " 'Michelle',\n",
       " 'Yeoh',\n",
       " 'Jet',\n",
       " 'Li',\n",
       " 'Russell',\n",
       " 'Wong',\n",
       " 'The',\n",
       " 'Fast',\n",
       " 'and',\n",
       " 'the',\n",
       " 'Furious',\n",
       " 'director',\n",
       " 'Rob',\n",
       " 'Cohen',\n",
       " 'continues',\n",
       " 'the',\n",
       " 'tale',\n",
       " 'set',\n",
       " 'into',\n",
       " 'motion',\n",
       " 'by',\n",
       " 'director',\n",
       " 'Stephen',\n",
       " 'Sommers',\n",
       " 'with',\n",
       " 'this',\n",
       " 'globe-trotting',\n",
       " 'adventure',\n",
       " 'that',\n",
       " 'finds',\n",
       " 'explorer',\n",
       " 'Rick',\n",
       " \"O'Connell\",\n",
       " 'and',\n",
       " 'son',\n",
       " 'attempting',\n",
       " 'to',\n",
       " 'thwart',\n",
       " 'a',\n",
       " 'resurrected',\n",
       " \"emperor's\",\n",
       " '(Jet',\n",
       " 'Li)',\n",
       " 'plan',\n",
       " 'to',\n",
       " 'enslave',\n",
       " 'the',\n",
       " 'entire',\n",
       " 'human',\n",
       " 'race.',\n",
       " \"It's\",\n",
       " 'been',\n",
       " '2,000',\n",
       " 'years',\n",
       " 'since',\n",
       " \"China's\",\n",
       " 'merciless',\n",
       " 'Emperor',\n",
       " 'Han',\n",
       " 'and',\n",
       " 'his',\n",
       " 'formidable',\n",
       " 'army',\n",
       " 'were',\n",
       " 'entombed',\n",
       " 'in',\n",
       " 'terra',\n",
       " 'cotta',\n",
       " 'clay',\n",
       " 'by',\n",
       " 'a',\n",
       " 'double-dealing',\n",
       " 'sorceress',\n",
       " '(Michelle',\n",
       " 'Yeoh),',\n",
       " 'but',\n",
       " 'now,',\n",
       " 'after',\n",
       " 'centuries',\n",
       " 'in',\n",
       " 'suspended',\n",
       " 'animation,',\n",
       " 'an',\n",
       " 'ancient',\n",
       " 'curse',\n",
       " 'is',\n",
       " 'about',\n",
       " 'to',\n",
       " 'be',\n",
       " 'broken.',\n",
       " 'Thanks',\n",
       " 'to',\n",
       " 'his',\n",
       " 'childhood',\n",
       " 'adventures',\n",
       " 'alongside',\n",
       " 'father',\n",
       " 'Rick',\n",
       " '(Brendan',\n",
       " 'Fraser)',\n",
       " 'and',\n",
       " 'mother',\n",
       " 'Evelyn',\n",
       " '(Maria',\n",
       " 'Bello),',\n",
       " 'dashing',\n",
       " 'young',\n",
       " 'archeologist',\n",
       " 'Alex',\n",
       " \"O'Connell\",\n",
       " '(Luke',\n",
       " 'Ford)',\n",
       " 'is',\n",
       " 'more',\n",
       " 'than',\n",
       " 'familiar',\n",
       " 'with',\n",
       " 'the',\n",
       " 'power',\n",
       " 'of',\n",
       " 'the',\n",
       " 'supernatural.',\n",
       " 'After',\n",
       " 'he',\n",
       " 'is',\n",
       " 'tricked',\n",
       " 'into',\n",
       " 'awakening',\n",
       " 'the',\n",
       " 'dreaded',\n",
       " 'emperor',\n",
       " 'from',\n",
       " 'his',\n",
       " 'eternal',\n",
       " 'slumber,',\n",
       " 'however,',\n",
       " 'the',\n",
       " 'frightened',\n",
       " 'young',\n",
       " 'adventurer',\n",
       " 'is',\n",
       " 'forced',\n",
       " 'to',\n",
       " 'seek',\n",
       " 'out',\n",
       " 'the',\n",
       " 'wisdom',\n",
       " 'of',\n",
       " 'his',\n",
       " 'parents',\n",
       " '--',\n",
       " 'both',\n",
       " 'of',\n",
       " 'whom',\n",
       " 'have',\n",
       " 'had',\n",
       " 'their',\n",
       " 'fair',\n",
       " 'share',\n",
       " 'of',\n",
       " 'experience',\n",
       " 'battling',\n",
       " 'the',\n",
       " 'legions',\n",
       " 'of',\n",
       " 'the',\n",
       " 'undead.',\n",
       " 'Should',\n",
       " 'the',\n",
       " 'fierce',\n",
       " 'monarch',\n",
       " 'prove',\n",
       " 'capable',\n",
       " 'of',\n",
       " 'awakening',\n",
       " 'his',\n",
       " 'powerful',\n",
       " 'terra',\n",
       " 'cotta',\n",
       " 'army,',\n",
       " 'his',\n",
       " 'diabolical',\n",
       " 'plan',\n",
       " 'for',\n",
       " 'world',\n",
       " 'domination',\n",
       " 'will',\n",
       " 'finally',\n",
       " 'be',\n",
       " 'set',\n",
       " 'into',\n",
       " 'motion.',\n",
       " 'Of',\n",
       " 'course,',\n",
       " 'the',\n",
       " 'one',\n",
       " 'factor',\n",
       " 'that',\n",
       " 'this',\n",
       " 'emperor',\n",
       " 'mummy',\n",
       " 'failed',\n",
       " 'to',\n",
       " 'consider',\n",
       " 'while',\n",
       " 'solidifying',\n",
       " 'his',\n",
       " 'power-mad',\n",
       " 'plans',\n",
       " 'was',\n",
       " 'the',\n",
       " \"O'Connells,\",\n",
       " 'and',\n",
       " 'before',\n",
       " 'this',\n",
       " 'battle',\n",
       " 'is',\n",
       " 'over,',\n",
       " 'the',\n",
       " 'monstrous',\n",
       " 'monarch',\n",
       " 'will',\n",
       " 'be',\n",
       " 'forced',\n",
       " 'to',\n",
       " 'contend',\n",
       " 'with',\n",
       " 'the',\n",
       " 'one',\n",
       " 'family',\n",
       " 'that',\n",
       " \"isn't\",\n",
       " 'frightened',\n",
       " 'by',\n",
       " 'a',\n",
       " 'few',\n",
       " 'rickety',\n",
       " 'reanimated',\n",
       " 'corpses.',\n",
       " '~',\n",
       " 'Jason',\n",
       " 'Buchanan,',\n",
       " 'Rovi',\n",
       " 'Rob',\n",
       " 'Cohen',\n",
       " 'Simon',\n",
       " 'Duggan',\n",
       " 'Universal',\n",
       " 'Pictures',\n",
       " 'The',\n",
       " 'Mummy:',\n",
       " 'Tomb',\n",
       " 'of',\n",
       " 'the',\n",
       " 'Dragon',\n",
       " 'Emperor',\n",
       " 'Alfred',\n",
       " 'Gough',\n",
       " 'Miles',\n",
       " 'Millar',\n",
       " 'Action',\n",
       " 'Drama',\n",
       " 'Comedy']"
      ]
     },
     "execution_count": 119,
     "metadata": {},
     "output_type": "execute_result"
    }
   ],
   "source": [
    "r_movie[0]"
   ]
  },
  {
   "cell_type": "code",
   "execution_count": null,
   "metadata": {},
   "outputs": [],
   "source": []
  }
 ],
 "metadata": {
  "kernelspec": {
   "display_name": "Python 3",
   "language": "python",
   "name": "python3"
  },
  "language_info": {
   "codemirror_mode": {
    "name": "ipython",
    "version": 3
   },
   "file_extension": ".py",
   "mimetype": "text/x-python",
   "name": "python",
   "nbconvert_exporter": "python",
   "pygments_lexer": "ipython3",
   "version": "3.7.2"
  }
 },
 "nbformat": 4,
 "nbformat_minor": 2
}
