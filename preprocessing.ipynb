{
 "cells": [
  {
   "cell_type": "code",
   "execution_count": 32,
   "metadata": {},
   "outputs": [],
   "source": [
    "import pandas as pd\n",
    "import numpy as np\n",
    "from datetime import datetime"
   ]
  },
  {
   "cell_type": "code",
   "execution_count": 33,
   "metadata": {},
   "outputs": [],
   "source": [
    "movie_all = pd.read_csv('data/all_movie.csv')\n",
    "movie_info = pd.read_csv('data/movie_info.tsv',sep = '\\t')\n",
    "review = pd.read_csv('data/reviews.tsv',sep = '\\t',encoding = 'unicode_escape')"
   ]
  },
  {
   "cell_type": "code",
   "execution_count": 34,
   "metadata": {},
   "outputs": [],
   "source": [
    "movie_all_cleaned = movie_all.drop(['Cast 4','Cast 3','Cast 5','Cast 6','Director 2','Director 3','Writer 2','Writer 3','Writer 4'],axis = 1)"
   ]
  },
  {
   "cell_type": "code",
   "execution_count": 35,
   "metadata": {},
   "outputs": [],
   "source": [
    "movie_info_cleaned = movie_info.drop(['currency'],axis = 1)"
   ]
  },
  {
   "cell_type": "code",
   "execution_count": 36,
   "metadata": {},
   "outputs": [],
   "source": [
    "merged = pd.merge(movie_all_cleaned,movie_info_cleaned,how = 'right',left_on=['Director 1','Writer 1','Runtime'],right_on= ['director','writer','runtime']).drop_duplicates()\n",
    "merged = merged.drop(['Rating','Genre','Release Date','dvd_date','Director 1','Writer 1'],axis = 1)\n",
    "merged = merged.drop_duplicates()"
   ]
  },
  {
   "cell_type": "code",
   "execution_count": 37,
   "metadata": {},
   "outputs": [],
   "source": [
    "movie_final = merged.drop(['Studio','Runtime','Description','Year'],axis = 1)"
   ]
  },
  {
   "cell_type": "code",
   "execution_count": 38,
   "metadata": {},
   "outputs": [],
   "source": [
    "movie_final['runtime'] = movie_final['runtime'].apply(lambda x: x if pd.isna(x) else float(x[:-8]))"
   ]
  },
  {
   "cell_type": "code",
   "execution_count": 39,
   "metadata": {},
   "outputs": [],
   "source": [
    "def convert_rating(col):\n",
    "    scores = [1,0.95,0.85, 0.80, 0.75,0.65,0.60,0.55,0.45,0.40,0.35,0.25,0.20,0.15]\n",
    "    grades = ['A+','A', 'A-', 'B+', 'B', 'B-', 'C+', 'C', 'C-', 'D+', 'D', 'D-','F+','F']\n",
    "    if(pd.isna(col)):\n",
    "        return col\n",
    "    x = col.split('/')\n",
    "    try:\n",
    "        num = float(x[0])\n",
    "        de = float(x[1])\n",
    "        if(num < de):\n",
    "            return num/de\n",
    "        else:\n",
    "            return 1.0\n",
    "    except ValueError:\n",
    "        try:\n",
    "            i = grades.index(x[0])\n",
    "            return scores[i]\n",
    "        except ValueError:\n",
    "            return 0.0\n",
    "    except IndexError:\n",
    "        return np.abs(float(x[0]) / 10)"
   ]
  },
  {
   "cell_type": "code",
   "execution_count": 40,
   "metadata": {},
   "outputs": [],
   "source": [
    "review_final = review.copy()\n",
    "review_final['rating'] = review['rating'].apply(convert_rating)"
   ]
  },
  {
   "cell_type": "code",
   "execution_count": 41,
   "metadata": {},
   "outputs": [],
   "source": [
    "review_final['fresh'] = review['fresh'].apply(lambda x:1 if x =='fresh' else 0)\n",
    "movie_final['theater_date'] = movie_final['theater_date'].apply(lambda x:x if pd.isna(x) else datetime.strptime(x,'%b %d, %Y').strftime('%Y-%m-%d'))"
   ]
  },
  {
   "cell_type": "code",
   "execution_count": 42,
   "metadata": {},
   "outputs": [],
   "source": [
    "movie_final = movie_final.replace('', np.nan, regex=True)\n",
    "review_final = review_final.replace('', np.nan, regex=True)"
   ]
  },
  {
   "cell_type": "code",
   "execution_count": 43,
   "metadata": {},
   "outputs": [],
   "source": [
    "review_final.to_csv('cleaned_review.csv',index=False)"
   ]
  },
  {
   "cell_type": "code",
   "execution_count": 13,
   "metadata": {},
   "outputs": [],
   "source": [
    "movie_final.to_csv('cleaned_movie.csv',index=True)"
   ]
  },
  {
   "cell_type": "code",
   "execution_count": 14,
   "metadata": {},
   "outputs": [
    {
     "data": {
      "text/html": [
       "<div>\n",
       "<style scoped>\n",
       "    .dataframe tbody tr th:only-of-type {\n",
       "        vertical-align: middle;\n",
       "    }\n",
       "\n",
       "    .dataframe tbody tr th {\n",
       "        vertical-align: top;\n",
       "    }\n",
       "\n",
       "    .dataframe thead th {\n",
       "        text-align: right;\n",
       "    }\n",
       "</style>\n",
       "<table border=\"1\" class=\"dataframe\">\n",
       "  <thead>\n",
       "    <tr style=\"text-align: right;\">\n",
       "      <th></th>\n",
       "      <th>Cast 1</th>\n",
       "      <th>Cast 2</th>\n",
       "      <th>Cast 3</th>\n",
       "      <th>Cast 4</th>\n",
       "      <th>Cast 5</th>\n",
       "      <th>Cast 6</th>\n",
       "      <th>Description</th>\n",
       "      <th>Director 1</th>\n",
       "      <th>Director 2</th>\n",
       "      <th>Director 3</th>\n",
       "      <th>...</th>\n",
       "      <th>Rating</th>\n",
       "      <th>Release Date</th>\n",
       "      <th>Runtime</th>\n",
       "      <th>Studio</th>\n",
       "      <th>Title</th>\n",
       "      <th>Writer 1</th>\n",
       "      <th>Writer 2</th>\n",
       "      <th>Writer 3</th>\n",
       "      <th>Writer 4</th>\n",
       "      <th>Year</th>\n",
       "    </tr>\n",
       "  </thead>\n",
       "  <tbody>\n",
       "    <tr>\n",
       "      <th>0</th>\n",
       "      <td>Brendan Fraser</td>\n",
       "      <td>John Hannah</td>\n",
       "      <td>Maria Bello</td>\n",
       "      <td>Michelle Yeoh</td>\n",
       "      <td>Jet Li</td>\n",
       "      <td>Russell Wong</td>\n",
       "      <td>The Fast and the Furious director Rob Cohen co...</td>\n",
       "      <td>Rob Cohen</td>\n",
       "      <td>Simon Duggan</td>\n",
       "      <td>Director Not Available</td>\n",
       "      <td>...</td>\n",
       "      <td>PG-13</td>\n",
       "      <td>7/24/2008</td>\n",
       "      <td>112 minutes</td>\n",
       "      <td>Universal Pictures</td>\n",
       "      <td>The Mummy: Tomb of the Dragon Emperor</td>\n",
       "      <td>Alfred Gough</td>\n",
       "      <td>Miles Millar</td>\n",
       "      <td>Writer Not Available</td>\n",
       "      <td>Writer Not Available</td>\n",
       "      <td>2008</td>\n",
       "    </tr>\n",
       "    <tr>\n",
       "      <th>1</th>\n",
       "      <td>Brett Granstaff</td>\n",
       "      <td>Diahann Carroll</td>\n",
       "      <td>Lara Jean Chorostecki</td>\n",
       "      <td>Roddy Piper</td>\n",
       "      <td>T.J. McGibbon</td>\n",
       "      <td>James Preston Rogers</td>\n",
       "      <td>The journey of a professional wrestler who bec...</td>\n",
       "      <td>Warren P. Sonoda</td>\n",
       "      <td>Director Not Available</td>\n",
       "      <td>Director Not Available</td>\n",
       "      <td>...</td>\n",
       "      <td>PG-13</td>\n",
       "      <td>1/8/2016</td>\n",
       "      <td>111 minutes</td>\n",
       "      <td>Freestyle Releasing</td>\n",
       "      <td>The Masked Saint</td>\n",
       "      <td>Scott Crowell</td>\n",
       "      <td>Brett Granstaff</td>\n",
       "      <td>Writer Not Available</td>\n",
       "      <td>Writer Not Available</td>\n",
       "      <td>2016</td>\n",
       "    </tr>\n",
       "    <tr>\n",
       "      <th>2</th>\n",
       "      <td>Leslie Nielsen</td>\n",
       "      <td>Nicollette Sheridan</td>\n",
       "      <td>Andy Griffith</td>\n",
       "      <td>Marcia Gay Harden</td>\n",
       "      <td>John Ales</td>\n",
       "      <td>Barry Bostwick</td>\n",
       "      <td>Dead pan Leslie Nielsen stars as Dick Steele, ...</td>\n",
       "      <td>Rick Friedberg</td>\n",
       "      <td>Director Not Available</td>\n",
       "      <td>Director Not Available</td>\n",
       "      <td>...</td>\n",
       "      <td>PG-13</td>\n",
       "      <td>5/24/1996</td>\n",
       "      <td>80 minutes</td>\n",
       "      <td>Hollywood Pictures</td>\n",
       "      <td>Spy Hard</td>\n",
       "      <td>Rick Friedberg</td>\n",
       "      <td>Dick Chudnow</td>\n",
       "      <td>Jason Friedberg</td>\n",
       "      <td>Aaron Seltzer</td>\n",
       "      <td>1996</td>\n",
       "    </tr>\n",
       "    <tr>\n",
       "      <th>3</th>\n",
       "      <td>Martina Gedeck</td>\n",
       "      <td>Moritz Bleibtreu</td>\n",
       "      <td>Johanna Wokalek</td>\n",
       "      <td>Bruno Ganz</td>\n",
       "      <td>Nadja Uhl</td>\n",
       "      <td>Jan Josef Liefers</td>\n",
       "      <td>Director Uli Edel teams with screenwriter Bern...</td>\n",
       "      <td>Uli Edel</td>\n",
       "      <td>Director Not Available</td>\n",
       "      <td>Director Not Available</td>\n",
       "      <td>...</td>\n",
       "      <td>R</td>\n",
       "      <td>9/25/2008</td>\n",
       "      <td>149 minutes</td>\n",
       "      <td>Vitagraph Films</td>\n",
       "      <td>Der Baader Meinhof Komplex (The Baader Meinhof...</td>\n",
       "      <td>Uli Edel</td>\n",
       "      <td>Bernd Eichinger</td>\n",
       "      <td>Writer Not Available</td>\n",
       "      <td>Writer Not Available</td>\n",
       "      <td>2008</td>\n",
       "    </tr>\n",
       "    <tr>\n",
       "      <th>4</th>\n",
       "      <td>Martin Sheen</td>\n",
       "      <td>Marlon Brando</td>\n",
       "      <td>Robert Duvall</td>\n",
       "      <td>Frederic Forrest</td>\n",
       "      <td>Sam Bottoms</td>\n",
       "      <td>Laurence Fishburne</td>\n",
       "      <td>One of a cluster of late-1970s films about the...</td>\n",
       "      <td>Francis Ford Coppola</td>\n",
       "      <td>Director Not Available</td>\n",
       "      <td>Director Not Available</td>\n",
       "      <td>...</td>\n",
       "      <td>R</td>\n",
       "      <td>1/1/1979</td>\n",
       "      <td>153 minutes</td>\n",
       "      <td>United Artists</td>\n",
       "      <td>Apocalypse Now</td>\n",
       "      <td>John Milius</td>\n",
       "      <td>Francis Ford Coppola</td>\n",
       "      <td>Michael Herr</td>\n",
       "      <td>Writer Not Available</td>\n",
       "      <td>1979</td>\n",
       "    </tr>\n",
       "  </tbody>\n",
       "</table>\n",
       "<p>5 rows × 21 columns</p>\n",
       "</div>"
      ],
      "text/plain": [
       "            Cast 1               Cast 2                 Cast 3  \\\n",
       "0   Brendan Fraser          John Hannah            Maria Bello   \n",
       "1  Brett Granstaff      Diahann Carroll  Lara Jean Chorostecki   \n",
       "2   Leslie Nielsen  Nicollette Sheridan          Andy Griffith   \n",
       "3   Martina Gedeck     Moritz Bleibtreu        Johanna Wokalek   \n",
       "4     Martin Sheen        Marlon Brando          Robert Duvall   \n",
       "\n",
       "              Cast 4         Cast 5                Cast 6  \\\n",
       "0      Michelle Yeoh         Jet Li          Russell Wong   \n",
       "1        Roddy Piper  T.J. McGibbon  James Preston Rogers   \n",
       "2  Marcia Gay Harden      John Ales        Barry Bostwick   \n",
       "3         Bruno Ganz      Nadja Uhl     Jan Josef Liefers   \n",
       "4   Frederic Forrest    Sam Bottoms    Laurence Fishburne   \n",
       "\n",
       "                                         Description            Director 1  \\\n",
       "0  The Fast and the Furious director Rob Cohen co...             Rob Cohen   \n",
       "1  The journey of a professional wrestler who bec...      Warren P. Sonoda   \n",
       "2  Dead pan Leslie Nielsen stars as Dick Steele, ...        Rick Friedberg   \n",
       "3  Director Uli Edel teams with screenwriter Bern...              Uli Edel   \n",
       "4  One of a cluster of late-1970s films about the...  Francis Ford Coppola   \n",
       "\n",
       "               Director 2              Director 3  ...  Rating Release Date  \\\n",
       "0            Simon Duggan  Director Not Available  ...  PG-13     7/24/2008   \n",
       "1  Director Not Available  Director Not Available  ...  PG-13      1/8/2016   \n",
       "2  Director Not Available  Director Not Available  ...   PG-13    5/24/1996   \n",
       "3  Director Not Available  Director Not Available  ...      R     9/25/2008   \n",
       "4  Director Not Available  Director Not Available  ...      R      1/1/1979   \n",
       "\n",
       "       Runtime               Studio  \\\n",
       "0  112 minutes   Universal Pictures   \n",
       "1  111 minutes  Freestyle Releasing   \n",
       "2   80 minutes   Hollywood Pictures   \n",
       "3  149 minutes      Vitagraph Films   \n",
       "4  153 minutes       United Artists   \n",
       "\n",
       "                                               Title        Writer 1  \\\n",
       "0              The Mummy: Tomb of the Dragon Emperor    Alfred Gough   \n",
       "1                                   The Masked Saint   Scott Crowell   \n",
       "2                                           Spy Hard  Rick Friedberg   \n",
       "3  Der Baader Meinhof Komplex (The Baader Meinhof...        Uli Edel   \n",
       "4                                     Apocalypse Now     John Milius   \n",
       "\n",
       "               Writer 2              Writer 3              Writer 4  Year  \n",
       "0          Miles Millar  Writer Not Available  Writer Not Available  2008  \n",
       "1       Brett Granstaff  Writer Not Available  Writer Not Available  2016  \n",
       "2          Dick Chudnow       Jason Friedberg         Aaron Seltzer  1996  \n",
       "3       Bernd Eichinger  Writer Not Available  Writer Not Available  2008  \n",
       "4  Francis Ford Coppola          Michael Herr  Writer Not Available  1979  \n",
       "\n",
       "[5 rows x 21 columns]"
      ]
     },
     "execution_count": 14,
     "metadata": {},
     "output_type": "execute_result"
    }
   ],
   "source": [
    "movie_all.head(5)"
   ]
  },
  {
   "cell_type": "code",
   "execution_count": 17,
   "metadata": {},
   "outputs": [],
   "source": [
    "search_engine = movie_all[['Description','Title','Cast 1','Director 1','Writer 1','Year','Genre']]"
   ]
  },
  {
   "cell_type": "code",
   "execution_count": 18,
   "metadata": {},
   "outputs": [],
   "source": [
    "search_engine.drop_duplicates().to_csv('search.csv',index=True)"
   ]
  },
  {
   "cell_type": "code",
   "execution_count": 55,
   "metadata": {},
   "outputs": [],
   "source": [
    "avg = review_final.groupby(['id']).mean()['fresh']"
   ]
  }
 ],
 "metadata": {
  "kernelspec": {
   "display_name": "Python 3",
   "language": "python",
   "name": "python3"
  },
  "language_info": {
   "codemirror_mode": {
    "name": "ipython",
    "version": 3
   },
   "file_extension": ".py",
   "mimetype": "text/x-python",
   "name": "python",
   "nbconvert_exporter": "python",
   "pygments_lexer": "ipython3",
   "version": "3.7.2"
  }
 },
 "nbformat": 4,
 "nbformat_minor": 2
}
