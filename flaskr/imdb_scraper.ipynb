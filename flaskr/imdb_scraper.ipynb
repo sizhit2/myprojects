{
 "cells": [
  {
   "cell_type": "code",
   "execution_count": 1,
   "metadata": {},
   "outputs": [],
   "source": [
    "from bs4 import BeautifulSoup\n",
    "from selenium import webdriver \n",
    "from selenium.webdriver.chrome.options import Options\n",
    "import re \n",
    "import urllib"
   ]
  },
  {
   "cell_type": "code",
   "execution_count": 2,
   "metadata": {},
   "outputs": [],
   "source": [
    "#create a webdriver object and set options for headless browsing\n",
    "options = Options()\n",
    "options.headless = True\n",
    "browser = webdriver.Chrome('./chromedriver',options=options)"
   ]
  },
  {
   "cell_type": "code",
   "execution_count": 3,
   "metadata": {},
   "outputs": [],
   "source": [
    "#uses webdriver object to execute javascript code and get dynamically loaded webcontent\n",
    "def get_js_soup(url,browser):\n",
    "    browser.get(url)\n",
    "    res_html = browser.execute_script('return document.body.innerHTML')\n",
    "    soup = BeautifulSoup(res_html,'html.parser') #beautiful soup object to be used for parsing html content\n",
    "    return soup\n",
    "\n",
    "#tidies extracted text \n",
    "def process_bio(bio):\n",
    "    bio = bio.encode('ascii',errors='ignore').decode('utf-8')       #removes non-ascii characters\n",
    "    bio = re.sub('\\s+',' ',bio)       #repalces repeated whitespace characters with single space\n",
    "    return bio\n",
    "\n",
    "''' More tidying\n",
    "Sometimes the text extracted HTML webpage may contain javascript code and some style elements. \n",
    "This function removes script and style tags from HTML so that extracted text does not contain them.\n",
    "'''\n",
    "def remove_script(soup):\n",
    "    for script in soup([\"script\", \"style\"]):\n",
    "        script.decompose()\n",
    "    return soup\n",
    "\n",
    "\n",
    "#Checks if bio_url is a valid faculty homepage\n",
    "def is_valid_homepage(bio_url,dir_url):\n",
    "    try:\n",
    "        #sometimes the homepage url points to the faculty profile page\n",
    "        #which should be treated differently from an actual homepage\n",
    "        ret_url = urllib.request.urlopen(bio_url).geturl() \n",
    "    except:\n",
    "        return False       #unable to access bio_url\n",
    "    urls = [re.sub('((https?://)|(www.))','',url) for url in [ret_url,dir_url]] #removes url scheme (https,http) or www \n",
    "    return not(urls[0]== urls[1])"
   ]
  },
  {
   "cell_type": "code",
   "execution_count": 38,
   "metadata": {},
   "outputs": [],
   "source": [
    "#extracts all Faculty Profile page urls from the Directory Listing Page\n",
    "def scrape_dir_page(dir_url,browser):\n",
    "    print ('-'*20,'Scraping directory page','-'*20)\n",
    "    faculty_links = []\n",
    "    faculty_base_url = 'https://www.imdb.com'\n",
    "    #execute js on webpage to load faculty listings on webpage and get ready to parse the loaded HTML \n",
    "    soup = get_js_soup(dir_url,browser)     \n",
    "    \n",
    "    #url returned is relative, so we need to add base url\n",
    "    faculty_links.append(faculty_base_url+soup.find_all('td',class_=\"result_text\")[0].find('a')['href'])\n",
    "    mainpage = faculty_links[0]\n",
    "    soup2 = get_js_soup(mainpage,browser)\n",
    "\n",
    "    faculty_links.append(faculty_base_url+soup2.find_all(\"div\",class_ = \"poster\")[0].find(\"a\")[\"href\"])\n",
    "\n",
    "    page3 = faculty_links[1]\n",
    "    soup3 = get_js_soup(page3,browser)\n",
    "   # print(type(soup3.find_all(\"img\",class_ = \"pswp__img\")[0]))\n",
    "    faculty_links.append(faculty_base_url+soup3.find_all(\"div\",class_ = \"pswp__item\")[1].find_all(\"img\",class_ = \"pswp__img\")[1].find(\"src\"))\n",
    "   \n",
    "    print(faculty_links)\n",
    "    return faculty_links"
   ]
  },
  {
   "cell_type": "code",
   "execution_count": 98,
   "metadata": {},
   "outputs": [],
   "source": [
    "def generate_url(query):\n",
    "    base = \"https://www.imdb.com/find?ref_=nv_sr_fn&q=\"\n",
    "    for i in query:\n",
    "        base+=i\n",
    "        print(base)\n",
    "        base+=\"+\"\n",
    "        print(base)\n",
    "    base+=\"&s=all\"\n",
    "    return base\n",
    "\n"
   ]
  },
  {
   "cell_type": "code",
   "execution_count": 97,
   "metadata": {},
   "outputs": [
    {
     "name": "stdout",
     "output_type": "stream",
     "text": [
      "['https://www.imdb.com/title/tt2395427/?ref_=fn_al_tt_1', 'https://m.media-amazon.com/images/M/MV5BMTM4OGJmNWMtOTM4Ni00NTE3LTg3MDItZmQxYjc4N2JhNmUxXkEyXkFqcGdeQXVyNTgzMDMzMTg@._V1_SY1000_SX675_AL_.jpg', '7.3']\n"
     ]
    }
   ],
   "source": [
    "dir_url = \"https://www.imdb.com/find?ref_=nv_sr_fn&q=avengers+age+of+ultron+&s=all\" #url of directory listings of CS faculty\n",
    "faculty_links = scrape_dir_page(dir_url,browser)\n"
   ]
  }
 ],
 "metadata": {
  "kernelspec": {
   "display_name": "Python 3",
   "language": "python",
   "name": "python3"
  },
  "language_info": {
   "codemirror_mode": {
    "name": "ipython",
    "version": 3
   },
   "file_extension": ".py",
   "mimetype": "text/x-python",
   "name": "python",
   "nbconvert_exporter": "python",
   "pygments_lexer": "ipython3",
   "version": "3.7.1"
  }
 },
 "nbformat": 4,
 "nbformat_minor": 2
}
