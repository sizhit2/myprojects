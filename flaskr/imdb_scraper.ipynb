{
 "cells": [
  {
   "cell_type": "code",
   "execution_count": 63,
   "metadata": {},
   "outputs": [],
   "source": [
    "from bs4 import BeautifulSoup\n",
    "from selenium import webdriver \n",
    "from selenium.webdriver.chrome.options import Options\n",
    "import re \n",
    "import urllib\n",
    "import pandas as pd"
   ]
  },
  {
   "cell_type": "code",
   "execution_count": 64,
   "metadata": {},
   "outputs": [],
   "source": [
    "#create a webdriver object and set options for headless browsing\n",
    "options = Options()\n",
    "options.headless = True\n",
    "browser = webdriver.Chrome('./chromedriver',options=options)"
   ]
  },
  {
   "cell_type": "code",
   "execution_count": 65,
   "metadata": {},
   "outputs": [],
   "source": [
    "#uses webdriver object to execute javascript code and get dynamically loaded webcontent\n",
    "def get_js_soup(url,browser):\n",
    "    browser.get(url)\n",
    "    res_html = browser.execute_script('return document.body.innerHTML')\n",
    "    soup = BeautifulSoup(res_html,'html.parser') #beautiful soup object to be used for parsing html content\n",
    "    return soup"
   ]
  },
  {
   "cell_type": "code",
   "execution_count": 66,
   "metadata": {},
   "outputs": [],
   "source": [
    "def scrape_dir_page(dir_url,browser):\n",
    "    ret = []\n",
    "    base_url = 'https://www.imdb.com'\n",
    "    soup = get_js_soup(dir_url,browser)     \n",
    "    \n",
    "    ret.append(base_url+soup.find_all('td',class_=\"result_text\")[0].find('a')['href'])\n",
    "    mainpage = ret[0]\n",
    "    soup2 = get_js_soup(mainpage,browser)\n",
    "\n",
    "    ret.append(base_url+soup2.find_all(\"div\",class_ = \"poster\")[0].find(\"a\")[\"href\"])\n",
    "\n",
    "    page3 = ret[1]\n",
    "    soup3 = get_js_soup(page3,browser)\n",
    "\n",
    "    ret[1] = soup3.find_all(\"div\",class_ = \"pswp__item\")[1].find_all(\"img\",class_ = \"pswp__img\")[1][\"src\"]\n",
    "    ret.append(soup2.find(\"div\",class_ = \"ratingValue\").find(\"strong\")[\"title\"].split()[0])\n",
    "    #print(ret)\n",
    "    return ret"
   ]
  },
  {
   "cell_type": "code",
   "execution_count": 67,
   "metadata": {},
   "outputs": [],
   "source": [
    "def generate_url(query):\n",
    "    base = \"https://www.imdb.com/find?ref_=nv_sr_fn&q=\"\n",
    "    for i in query:\n",
    "        base+=i\n",
    "\n",
    "        base+=\"+\"\n",
    "\n",
    "    base+=\"&s=all\"\n",
    "    return base\n",
    "\n"
   ]
  },
  {
   "cell_type": "code",
   "execution_count": 69,
   "metadata": {},
   "outputs": [
    {
     "name": "stdout",
     "output_type": "stream",
     "text": [
      "['https://www.imdb.com/title/tt0859163/?ref_=fn_al_tt_1', 'https://m.media-amazon.com/images/M/MV5BMTU4NDIzMDY1OV5BMl5BanBnXkFtZTcwNjQxMzk3MQ@@._V1_.jpg', '5.2']\n",
      "['https://www.imdb.com/title/tt3103166/?ref_=fn_al_tt_1', 'https://m.media-amazon.com/images/M/MV5BMjI0NzU4MjkxNl5BMl5BanBnXkFtZTgwMTYxMTA1NzE@._V1_SY1000_CR0,0,675,1000_AL_.jpg', '4.6']\n",
      "['https://www.imdb.com/title/tt0117723/?ref_=fn_al_tt_1', 'https://m.media-amazon.com/images/M/MV5BOGFmYWFiZDAtZTc1YS00ZTIxLTkwODctODc0MzUzNGIyNzgwL2ltYWdlXkEyXkFqcGdeQXVyMTQxNzMzNDI@._V1_SY1000_CR0,0,672,1000_AL_.jpg', '5.3']\n",
      "['https://www.imdb.com/title/tt0765432/?ref_=fn_al_tt_1', 'https://m.media-amazon.com/images/M/MV5BMTg4OTY5OTY5OV5BMl5BanBnXkFtZTcwMjk1MzY3Mg@@._V1_SY1000_CR0,0,678,1000_AL_.jpg', '7.4']\n",
      "['https://www.imdb.com/title/tt0078788/?ref_=fn_al_tt_1', 'https://m.media-amazon.com/images/M/MV5BZTNkZmU0ZWQtZjQzMy00YTNmLWFmN2MtZGNkMmU1OThmMGYwXkEyXkFqcGdeQXVyNzkwMjQ5NzM@._V1_SY1000_CR0,0,652,1000_AL_.jpg', '8.5']\n",
      "['https://www.imdb.com/title/tt3045616/?ref_=fn_al_tt_1', 'https://m.media-amazon.com/images/M/MV5BMjM3NDcxOTM5Ml5BMl5BanBnXkFtZTgwNTEwNzE0MzE@._V1_SY1000_CR0,0,657,1000_AL_.jpg', '5.5']\n",
      "['https://www.imdb.com/title/tt0887912/?ref_=fn_al_tt_1', 'https://m.media-amazon.com/images/M/MV5BYWYxZjU2MmQtMmMzYi00ZWUwLTg2ZWQtMDExZTVlYjM3ZWM1XkEyXkFqcGdeQXVyNzkwMjQ5NzM@._V1_SY1000_CR0,0,666,1000_AL_.jpg', '7.6']\n",
      "['https://www.imdb.com/title/tt4729560/?ref_=fn_al_tt_1', 'https://m.media-amazon.com/images/M/MV5BODIzNzkyNzcwNV5BMl5BanBnXkFtZTgwMTAzMTg3MDI@._V1_SY1000_CR0,0,676,1000_AL_.jpg', '5.4']\n",
      "['https://www.imdb.com/title/tt0073008/?ref_=fn_al_tt_1', 'https://m.media-amazon.com/images/M/MV5BNDA4MzBmZDYtNjEzZC00ZWJlLTgxMDYtNTFlOTgzZjUyZDlkXkEyXkFqcGdeQXVyMTA0MjU0Ng@@._V1_.jpg', '5.7']\n",
      "['https://www.imdb.com/title/tt0050490/?ref_=fn_al_tt_1', 'https://m.media-amazon.com/images/M/MV5BZjRmYTIwMGYtZWZmYy00MjY5LTkzOTgtMGQwMDdhMTdhMjEwXkEyXkFqcGdeQXVyNjc1NTYyMjg@._V1_SY1000_CR0,0,658,1000_AL_.jpg', '7.4']\n",
      "['https://www.imdb.com/title/tt0109906/?ref_=fn_al_tt_1', 'https://m.media-amazon.com/images/M/MV5BNzdkNTg5YWQtNGI4Mi00NTIzLTkzNTItYTFjM2JhYTgwYzc1XkEyXkFqcGdeQXVyNjU5MjcxOTg@._V1_.jpg', '6.5']\n",
      "['https://www.imdb.com/title/tt0419724/?ref_=fn_al_tt_1', 'https://m.media-amazon.com/images/M/MV5BNTM5ODMyNjg2NF5BMl5BanBnXkFtZTcwMDA3ODc2Mg@@._V1_.jpg', '6.0']\n",
      "['https://www.imdb.com/title/tt0113596/?ref_=fn_al_tt_1', 'https://m.media-amazon.com/images/M/MV5BMTI1OTU3NjkwMl5BMl5BanBnXkFtZTYwOTU2MDg5._V1_.jpg', '5.7']\n",
      "['https://www.imdb.com/title/tt0071424/?ref_=fn_al_tt_1', 'https://m.media-amazon.com/images/M/MV5BNjcwMGNjYzYtYmU5OC00ZGU4LTgyNzUtMWEyN2RhMTY3ZGUyXkEyXkFqcGdeQXVyMTA0MjU0Ng@@._V1_.jpg', '6.7']\n",
      "['https://www.imdb.com/title/tt0061584/?ref_=fn_al_tt_1', 'https://m.media-amazon.com/images/M/MV5BMjMxOTM3NzU4M15BMl5BanBnXkFtZTgwNDU0MDUxMDE@._V1_.jpg', '6.2']\n",
      "['https://www.imdb.com/title/tt0891592/?ref_=fn_al_tt_1', 'https://m.media-amazon.com/images/M/MV5BMTQ2Mzc1MDc5MV5BMl5BanBnXkFtZTcwMDk1NTIzMg@@._V1_SY1000_CR0,0,640,1000_AL_.jpg', '3.7']\n",
      "['https://www.imdb.com/title/tt0064639/?ref_=fn_al_tt_1', 'https://m.media-amazon.com/images/M/MV5BYzMyNmFhMTMtNGMwMC00NjZjLTlkMzctYWYyODA2NTg3ZTk3XkEyXkFqcGdeQXVyNjY1NTQ0NDg@._V1_SX657_CR0,0,657,999_AL_.jpg', '5.8']\n",
      "['https://www.imdb.com/title/tt0086005/?ref_=fn_al_tt_1', 'https://m.media-amazon.com/images/M/MV5BMTkxMTA5NjEyOF5BMl5BanBnXkFtZTcwOTU3NTYyMQ@@._V1_.jpg', '7.6']\n",
      "['https://www.imdb.com/title/tt3228904/?ref_=fn_al_tt_1', 'https://m.media-amazon.com/images/M/MV5BMjEwNjA0OTcyMF5BMl5BanBnXkFtZTgwOTYxOTU0NjM@._V1_.jpg', '7.5']\n",
      "['https://www.imdb.com/title/tt0192657/?ref_=fn_al_tt_1', 'https://m.media-amazon.com/images/M/MV5BZDZmMTQ0OWMtYTM1YS00MWM1LWFhZTQtOTc3NzI1ZGQyOTkzXkEyXkFqcGdeQXVyNjQ2MjQ5NzM@._V1_SY1000_CR0,0,707,1000_AL_.jpg', '6.7']\n",
      "['https://www.imdb.com/title/tt0106856/?ref_=fn_al_tt_1', 'https://m.media-amazon.com/images/M/MV5BYjcxMzM3OWMtNmM3Yy00YzBkLTkxMmQtMDk4MmM3Y2Y4MDliL2ltYWdlXkEyXkFqcGdeQXVyMTQxNzMzNDI@._V1_.jpg', '7.6']\n",
      "['https://www.imdb.com/title/tt0103016/?ref_=fn_al_tt_1', 'https://m.media-amazon.com/images/M/MV5BNGZkZDQzMmYtZTE4NC00YmZkLWJlMDQtYjk5ZDE4ZjNmZTJhXkEyXkFqcGdeQXVyMTQxNzMzNDI@._V1_SY1000_CR0,0,666,1000_AL_.jpg', '5.8']\n",
      "['https://www.imdb.com/title/tt5809150/?ref_=fn_al_tt_1', 'https://m.media-amazon.com/images/M/MV5BOWExMmRhMWItYmUyMi00MjYzLTk5ODQtMTdkZmU3MWZmMjcyL2ltYWdlL2ltYWdlXkEyXkFqcGdeQXVyMjYwNDA2MDE@._V1_.jpg', '6.6']\n",
      "['https://www.imdb.com/title/tt5052460/?ref_=fn_al_tt_1', 'https://m.media-amazon.com/images/M/MV5BMTYxNzQ2MTUwMF5BMl5BanBnXkFtZTgwNTMwMDIzNDM@._V1_.jpg', '6.7']\n",
      "['https://www.imdb.com/title/tt1515208/?ref_=fn_al_tt_1', 'https://m.media-amazon.com/images/M/MV5BNzUwOTg4MDg0MF5BMl5BanBnXkFtZTgwMTI1NzQyMTE@._V1_SY1000_CR0,0,674,1000_AL_.jpg', '6.3']\n",
      "['https://www.imdb.com/title/tt0115433/?ref_=fn_al_tt_1', 'https://m.media-amazon.com/images/M/MV5BMGI2NTQ2N2EtNDExMS00OWM2LTkzZWItZGUzY2M2MDFjODk0XkEyXkFqcGdeQXVyMTQxNzMzNDI@._V1_SY1000_CR0,0,675,1000_AL_.jpg', '5.7']\n",
      "['https://www.imdb.com/title/tt5001754/?ref_=fn_al_tt_1', 'https://m.media-amazon.com/images/M/MV5BMjM1ODUzMTU1NV5BMl5BanBnXkFtZTgwMzcwMzY1NDM@._V1_SY1000_CR0,0,674,1000_AL_.jpg', '6.1']\n",
      "['https://www.imdb.com/title/tt0240772/?ref_=fn_al_tt_1', 'https://m.media-amazon.com/images/M/MV5BYzVmYzVkMmUtOGRhMi00MTNmLThlMmUtZTljYjlkMjNkMjJkXkEyXkFqcGdeQXVyNDk3NzU2MTQ@._V1_SY1000_CR0,0,675,1000_AL_.jpg', '7.8']\n",
      "['https://www.imdb.com/title/tt0039017/?ref_=fn_al_tt_1', 'https://m.media-amazon.com/images/M/MV5BMTI2NzAzNzYwN15BMl5BanBnXkFtZTYwMTQyNzk4._V1_.jpg', '7.0']\n",
      "['https://www.imdb.com/title/tt2296777/?ref_=fn_al_tt_1', 'https://m.media-amazon.com/images/M/MV5BMTk4NzU3NzU2NV5BMl5BanBnXkFtZTgwNDc4NTI3NDM@._V1_SY1000_CR0,0,640,1000_AL_.jpg', '5.1']\n",
      "['https://www.imdb.com/title/tt0116213/?ref_=fn_al_tt_1', 'https://m.media-amazon.com/images/M/MV5BOTczMTNlN2UtMWE2NS00ZTUyLTgzYTQtYTFkNWIzODJkYzIwXkEyXkFqcGdeQXVyNDc2NjEyMw@@._V1_SY1000_CR0,0,675,1000_AL_.jpg', '6.1']\n",
      "['https://www.imdb.com/title/tt0050825/?ref_=fn_al_tt_1', 'https://m.media-amazon.com/images/M/MV5BNjViMmRkOTEtM2ViOS00ODg0LWJhYWEtNTBlOGQxNDczOGY3XkEyXkFqcGdeQXVyMDI2NDg0NQ@@._V1_SY999_CR0,0,722,999_AL_.jpg', '8.4']\n"
     ]
    },
    {
     "ename": "AttributeError",
     "evalue": "'NoneType' object has no attribute 'find'",
     "output_type": "error",
     "traceback": [
      "\u001b[0;31m---------------------------------------------------------------------------\u001b[0m",
      "\u001b[0;31mAttributeError\u001b[0m                            Traceback (most recent call last)",
      "\u001b[0;32m<ipython-input-69-23e0cd64a654>\u001b[0m in \u001b[0;36m<module>\u001b[0;34m\u001b[0m\n\u001b[1;32m      6\u001b[0m     \u001b[0;31m#title[i] = title[i].split()\u001b[0m\u001b[0;34m\u001b[0m\u001b[0;34m\u001b[0m\u001b[0;34m\u001b[0m\u001b[0m\n\u001b[1;32m      7\u001b[0m     \u001b[0murl\u001b[0m \u001b[0;34m=\u001b[0m \u001b[0mgenerate_url\u001b[0m\u001b[0;34m(\u001b[0m\u001b[0mi\u001b[0m\u001b[0;34m.\u001b[0m\u001b[0msplit\u001b[0m\u001b[0;34m(\u001b[0m\u001b[0;34m)\u001b[0m\u001b[0;34m)\u001b[0m\u001b[0;34m\u001b[0m\u001b[0;34m\u001b[0m\u001b[0m\n\u001b[0;32m----> 8\u001b[0;31m     \u001b[0mlist_\u001b[0m\u001b[0;34m.\u001b[0m\u001b[0mappend\u001b[0m\u001b[0;34m(\u001b[0m\u001b[0mscrape_dir_page\u001b[0m\u001b[0;34m(\u001b[0m\u001b[0murl\u001b[0m\u001b[0;34m,\u001b[0m \u001b[0mbrowser\u001b[0m\u001b[0;34m)\u001b[0m\u001b[0;34m)\u001b[0m\u001b[0;34m\u001b[0m\u001b[0;34m\u001b[0m\u001b[0m\n\u001b[0m",
      "\u001b[0;32m<ipython-input-66-a7a3b346eb8d>\u001b[0m in \u001b[0;36mscrape_dir_page\u001b[0;34m(dir_url, browser)\u001b[0m\n\u001b[1;32m     14\u001b[0m \u001b[0;34m\u001b[0m\u001b[0m\n\u001b[1;32m     15\u001b[0m     \u001b[0mret\u001b[0m\u001b[0;34m[\u001b[0m\u001b[0;36m1\u001b[0m\u001b[0;34m]\u001b[0m \u001b[0;34m=\u001b[0m \u001b[0msoup3\u001b[0m\u001b[0;34m.\u001b[0m\u001b[0mfind_all\u001b[0m\u001b[0;34m(\u001b[0m\u001b[0;34m\"div\"\u001b[0m\u001b[0;34m,\u001b[0m\u001b[0mclass_\u001b[0m \u001b[0;34m=\u001b[0m \u001b[0;34m\"pswp__item\"\u001b[0m\u001b[0;34m)\u001b[0m\u001b[0;34m[\u001b[0m\u001b[0;36m1\u001b[0m\u001b[0;34m]\u001b[0m\u001b[0;34m.\u001b[0m\u001b[0mfind_all\u001b[0m\u001b[0;34m(\u001b[0m\u001b[0;34m\"img\"\u001b[0m\u001b[0;34m,\u001b[0m\u001b[0mclass_\u001b[0m \u001b[0;34m=\u001b[0m \u001b[0;34m\"pswp__img\"\u001b[0m\u001b[0;34m)\u001b[0m\u001b[0;34m[\u001b[0m\u001b[0;36m1\u001b[0m\u001b[0;34m]\u001b[0m\u001b[0;34m[\u001b[0m\u001b[0;34m\"src\"\u001b[0m\u001b[0;34m]\u001b[0m\u001b[0;34m\u001b[0m\u001b[0;34m\u001b[0m\u001b[0m\n\u001b[0;32m---> 16\u001b[0;31m     \u001b[0mret\u001b[0m\u001b[0;34m.\u001b[0m\u001b[0mappend\u001b[0m\u001b[0;34m(\u001b[0m\u001b[0msoup2\u001b[0m\u001b[0;34m.\u001b[0m\u001b[0mfind\u001b[0m\u001b[0;34m(\u001b[0m\u001b[0;34m\"div\"\u001b[0m\u001b[0;34m,\u001b[0m\u001b[0mclass_\u001b[0m \u001b[0;34m=\u001b[0m \u001b[0;34m\"ratingValue\"\u001b[0m\u001b[0;34m)\u001b[0m\u001b[0;34m.\u001b[0m\u001b[0mfind\u001b[0m\u001b[0;34m(\u001b[0m\u001b[0;34m\"strong\"\u001b[0m\u001b[0;34m)\u001b[0m\u001b[0;34m[\u001b[0m\u001b[0;34m\"title\"\u001b[0m\u001b[0;34m]\u001b[0m\u001b[0;34m.\u001b[0m\u001b[0msplit\u001b[0m\u001b[0;34m(\u001b[0m\u001b[0;34m)\u001b[0m\u001b[0;34m[\u001b[0m\u001b[0;36m0\u001b[0m\u001b[0;34m]\u001b[0m\u001b[0;34m)\u001b[0m\u001b[0;34m\u001b[0m\u001b[0;34m\u001b[0m\u001b[0m\n\u001b[0m\u001b[1;32m     17\u001b[0m     \u001b[0mprint\u001b[0m\u001b[0;34m(\u001b[0m\u001b[0mret\u001b[0m\u001b[0;34m)\u001b[0m\u001b[0;34m\u001b[0m\u001b[0;34m\u001b[0m\u001b[0m\n\u001b[1;32m     18\u001b[0m     \u001b[0;32mreturn\u001b[0m \u001b[0mret\u001b[0m\u001b[0;34m\u001b[0m\u001b[0;34m\u001b[0m\u001b[0m\n",
      "\u001b[0;31mAttributeError\u001b[0m: 'NoneType' object has no attribute 'find'"
     ]
    }
   ],
   "source": [
    "movie = pd.read_csv('data/combined_corpus_for_search_engine.csv')\n",
    "title = list(movie['Title'])\n",
    "\n",
    "list_ = []\n",
    "for i in title:\n",
    "    #title[i] = title[i].split()\n",
    "    url = generate_url(i.split())\n",
    "    list_.append(scrape_dir_page(url, browser))\n"
   ]
  },
  {
   "cell_type": "code",
   "execution_count": null,
   "metadata": {},
   "outputs": [],
   "source": []
  }
 ],
 "metadata": {
  "kernelspec": {
   "display_name": "Python 3",
   "language": "python",
   "name": "python3"
  },
  "language_info": {
   "codemirror_mode": {
    "name": "ipython",
    "version": 3
   },
   "file_extension": ".py",
   "mimetype": "text/x-python",
   "name": "python",
   "nbconvert_exporter": "python",
   "pygments_lexer": "ipython3",
   "version": "3.7.1"
  }
 },
 "nbformat": 4,
 "nbformat_minor": 2
}
