{
 "cells": [
  {
   "cell_type": "code",
   "execution_count": 30,
   "metadata": {},
   "outputs": [],
   "source": [
    "# review = pd.read_csv('cleaned_review.csv')\n",
    "movie = pd.read_csv('combined_corpus_for_search_engine.csv')\n",
    "# data_review = review['review']\n",
    "data_movie = movie['Combined']\n",
    "# data_review = data_review.fillna('')\n",
    "# data_movie = data_movie.fillna('')\n",
    "s_movie = []\n",
    "# s_review = []\n",
    "for i in range(len(data_movie)):\n",
    "    s_movie.append(data_movie.iloc[i])"
   ]
  },
  {
   "cell_type": "code",
   "execution_count": 31,
   "metadata": {},
   "outputs": [],
   "source": [
    "import pandas as pd\n",
    "import numpy as np\n",
    "import matplotlib.pyplot as plt\n",
    "from sklearn.feature_extraction.text import TfidfVectorizer,CountVectorizer\n",
    "from sklearn.neighbors import NearestNeighbors\n",
    "%matplotlib inline\n",
    "import nltk\n",
    "from nltk.corpus import stopwords\n",
    "import plotly.graph_objs as go\n",
    "from plotly import tools\n",
    "from plotly.offline import download_plotlyjs, init_notebook_mode, plot, iplot\n",
    "import plotly.plotly as py"
   ]
  },
  {
   "cell_type": "code",
   "execution_count": 21,
   "metadata": {},
   "outputs": [],
   "source": [
    "vector_movie = TfidfVectorizer(stop_words=set(stopwords.words('english')),max_df=0.8,min_df= 0.01,analyzer= 'word')"
   ]
  },
  {
   "cell_type": "code",
   "execution_count": 29,
   "metadata": {},
   "outputs": [
    {
     "name": "stdout",
     "output_type": "stream",
     "text": [
      "This is for review 9481 : \n",
      "            Oscar-nominated documentary short chronicling the pursuit and arrest an of African-American schoolteacher Breaion King in Austin in 2015.  Kate Davis      HBO Documentary Films  Traffic Stop          Documentary   \n",
      "\n",
      "This is for review 4656 : \n",
      "            With breathtaking cinematography, director Cosima Spender's enthralling documentary captures the intensity of world's oldest horse race.  Cosima Spender        Palio  John Hunt  Cosima Spender      Documentary  Drama  Art&Foreign   \n",
      "\n",
      "This is for review 9236 : \n",
      "Naomi Watts  Ben Mendelsohn  Djimon Hounsou  Emile Hirsch  Ang Lee  Catherine Hardwicke  Fathom Events and Network Entertainment present the documentary, I Am Heath Ledger, an intimate look at the remarkable life and career of Heath Ledger, in select cinemas nationwide for a special one-night event on Wednesday, May 3. I Am Heath Ledger is a feature length documentary celebrating the life of Heath Ledger: actor, artist and icon. The documentary provides an intimate look at Heath Ledger through the lens of his own camera as he films and often performs in his own personal journey - extravagant in gesture and in action. Following the documentary, the event will include an exclusive segment featuring interviews with Heath's friends and family.  Adrian Buitenhuis  Derik Murray    Fathom Events  I Am Heath Ledger          Documentary   \n",
      "\n",
      "This is for review 9396 : \n",
      "            This documentary explores the spiritual journey of pilgrims who converge to bathe in the sacred waters of the Ganges to purify their sins during the Hindu festival of Kumbh Mela.  Maurizio Benazzo  Nick Day    Mela Films  Short Cut to Nirvana: Kumbh Mela          Documentary   \n",
      "\n",
      "This is for review 9655 : \n",
      "            The 2013 Boston Marathon terrorist attacks are recalled in this in-depth documentary through interviews with survivors and their families, as well as first responders, investigators, government officials and reporters from the Boston Globe. The film also uses surveillance video and home movies to recount the tragic events.  Ricki Stern  Anne Sundberg    HBO Documentary Films  Marathon: The Patriots Day Bombing  Ricki Stern  Anne Sundberg      Documentary   \n",
      "\n",
      "This is for review 9843 : \n",
      "Nadezhda Tolokonnikova  Yekaterina Samutsevich  Maria Alyokhina        Filmed over the course of 6 months, this documentary tells the incredible story of 3 young women: Nadia, Masha and Katia. But who is really on trial in a case that has gripped the nation and the world beyond - young artists or the society they live in? (c) Official FB  Maxim Pozdorovkin  Mike Lerner    HBO Documentary Films  Pussy Riot- - A Punk Prayer          Documentary   \n",
      "\n",
      "This is for review 10130 : \n",
      "Atom Egoyan  Mamoru Oshii  Frank Henenlotter        Home video changed the way the world consumed films. The cultural and historical impact of the VHS tape was enormous. REWIND THIS! is a documentary that traces the ripples of that impact by examining the myriad aspects of art,technology, and societal perceptions that were altered by the creation of videotape.  Josh Johnson      Oscilloscope Laboratories  Rewind This!          Documentary   \n",
      "\n",
      "This is for review 8929 : \n",
      "Helena Bonham Carter  Sidney Bernstein  Alfred Hitchcock  Richard Crossman  Billy Wilder  Peter Tanner  Documentary that includes archive footage of a documentary made by Alfred Hitchcock and Sidney Bernstein about concentration camps.  Andr Singer      Spring Films Ltd.  Night Will Fall  Lynette Singer        Documentary  Drama   \n",
      "\n",
      "This is for review 9430 : \n",
      "            In this heart-wrenching documentary, a judge, a social worker and a fire chief do their best to combat the opioid epidemic in their West Virginia community.  Elaine McMillion Sheldon      Netflix  Heroin(e)          Documentary   \n",
      "\n",
      "This is for review 9474 : \n",
      "Milton Glaser  Walter Bernard          For many, Milton Glaser is the personification of American graphic design. Best known for co-founding New York Magazine and the enduring I Love NY campaign, the full breadth of Glaser's remarkable artistic output is revealed in this documentary portrait \"Milton Glaser: To Inform and Delight.\" From newspapers and magazine designs, to interior spaces, logos, and brand identities, to his celebrated prints, drawings, posters and paintings, the documentary offers audiences a much richer appreciation for one of the great modern renaissance men. The film glances into everyday moments of Glaser's personal life and captures his immense warmth and humanity, and the boundless depth of his intelligence and creativity.  Wendy Keys      Arthouse Films  Milton Glaser: To Inform and Delight          Documentary   \n",
      "\n",
      "This is the title of the recommended movie Traffic Stop  \n",
      "This is the title of the recommended movie Palio  \n",
      "This is the title of the recommended movie I Am Heath Ledger  \n",
      "This is the title of the recommended movie Short Cut to Nirvana: Kumbh Mela  \n",
      "This is the title of the recommended movie Marathon: The Patriots Day Bombing  \n",
      "This is the title of the recommended movie Pussy Riot- - A Punk Prayer  \n",
      "This is the title of the recommended movie Rewind This!  \n",
      "This is the title of the recommended movie Night Will Fall  \n",
      "This is the title of the recommended movie Heroin(e)  \n",
      "This is the title of the recommended movie Milton Glaser: To Inform and Delight  \n"
     ]
    },
    {
     "data": {
      "text/html": [
       "<iframe id=\"igraph\" scrolling=\"no\" style=\"border:none;\" seamless=\"seamless\" src=\"https://plot.ly/~wan19990901/76.embed\" height=\"525px\" width=\"100%\"></iframe>"
      ],
      "text/plain": [
       "<plotly.tools.PlotlyDisplay object>"
      ]
     },
     "execution_count": 29,
     "metadata": {},
     "output_type": "execute_result"
    }
   ],
   "source": [
    "data_m = vector_movie.fit_transform(s_movie)\n",
    "que_m = vector_movie.transform(['Documentary or scifri']) \n",
    "knn = NearestNeighbors(10,metric='cosine')\n",
    "knn.fit(data_m)\n",
    "result = knn.kneighbors(que_m)\n",
    "labels = []\n",
    "idx = []\n",
    "for i in result[1][0]:\n",
    "    print('This is for review ' + str(i) + \" : \\n\" + data_movie.iloc[i],'\\n')\n",
    "for i in result[1][0]:\n",
    "    t = movie.iloc[i]['Title']\n",
    "    if(pd.isna(t)):\n",
    "        continue\n",
    "    else:\n",
    "        j = np.argwhere(result[1][0] == i)[0][0]\n",
    "        idx.append(j)\n",
    "        labels.append(t)\n",
    "        print(\"This is the title of the recommended movie \" + t)\n",
    "values = (result[0][0])[idx]\n",
    "colors = ['#FEBFB3', '#E1396C', '#96D38C', '#D0F9B1']\n",
    "trace = go.Pie(labels=labels, values=values,\n",
    "               hoverinfo='label+percent', textinfo='value', \n",
    "               textfont=dict(size=20),\n",
    "               marker=dict(colors=colors, \n",
    "                           line=dict(color='#000000', width=2)))\n",
    "\n",
    "py.iplot([trace], filename='styled_pie_chart')"
   ]
  },
  {
   "cell_type": "code",
   "execution_count": 27,
   "metadata": {},
   "outputs": [
    {
     "name": "stdout",
     "output_type": "stream",
     "text": [
      "This is for review 11 : \n",
      "Tom Papa  Paul Giamatti  Brian Posehn  Sheri Moon Zombie  Danny Trejo  Geoffrey Lewis  Paul Giamatti, Brian Posehn, Rosario Dawson, Danny Trejo, Daniel Roebuck, Tom Kenny, Tom Papa, and, of course, Sheri Moon Zombie all lend their voices to director Rob Zombie's animated tale of a washed-up luchador who makes it his mission to battle the forces of the supernatural. As the heroic El Superbeasto (voice of Papa) advances ever closer to his ultimate confrontation with the diabolical Dr. Satan (Giamatti), each adventure becomes more surreal and terrifying than the last.  Rob Zombie  Mr. Lawrence    Anchor Bay Entertainment  The Haunted World of El Superbeasto  Tom Papa  Rob Zombie      nanComedy  Action  Mystery  Horror   \n",
      "\n",
      "This is for review 9686 : \n",
      "Susan Tom  Joe Tom  Chloe Tom  Anthony Tom  Xenia Tom  Libby Tom  Susan Tom of Fairfield, CA, is not a typical single mother -- Tom is the head of a family of 11 adopted children, all of whom are physically challenged or living with long-term illnesses. Tom and her special family are the subject of My Flesh and Blood, a documentary which examines the dynamic of this household, as well as the often demanding physical and emotional needs of the 11 kids and the heavy emotional burden Tom must sometimes carry as she looks after children who may not survive to adulthood. Produced for the HBO premium cable network, My Flesh and Blood was screened in competition at the 2003 Sundance Film Festival.  Jonathan Karsh      Strand Releasing  My Flesh and Blood          Documentary   \n",
      "\n",
      "This is for review 6361 : \n",
      "Rob Schneider  David Carradine  Salvator Xuereb  Buddy Lewis  Scott Wilson  Randy Couture  Deuce Bigalow star Rob Schneider writes and stars in this comedy about a nerdy con man whose swindling ways ultimately land him a stiff prison sentence. Terrified at the prospect of being raped while serving time, the diminutive convict-to-be enlists the aid of a respected kung-fu expert in teaching him how to properly defend himself. Once inside, however, he finds his kung-fu serving as a catalyst for peace between the many warring factions.  Rob Schneider      Yari Film Group  Big Stan  Josh Lieb        Comedy   \n",
      "\n",
      "This is for review 7113 : \n",
      "Dave Annable  Katharine McPhee  Mena Suvari  Kathy Bates  Rob Schneider  Vinnie Jones  You May Not Kiss the Bride is a charming tale of adventurous high jinx and budding romance involving an unassuming pet photographer (Annable) who is thrown head first into a series of unforeseeable events when he's forced to marry a Croatian mobster's daughter (McPhee) and spend his honeymoon at a secluded Tahitian resort where the bride is kidnapped. -- C) Official Site  Rob Hedden      Freestyle Releasing  You May Not Kiss the Bride  Rob Hedden        Comedy   \n",
      "\n",
      "This is for review 6405 : \n",
      "Andrew Divoff  Michael McKean  Christopher Guest  Rob Reiner  Harry Shearer  Tony Hendra  A spoof about a filmmaker making a documentary about a once-famous, now almost forgotten British heavy metal band returning to the United States after 17 years for a concert tour.  Rob Reiner      MGM  This Is Spinal Tap  Rob Reiner  Christopher Guest  Michael McKean  Harry Shearer  Comedy   \n",
      "\n",
      "This is for review 14895 : \n",
      "Zach Braff  Amanda Peet  Jason Bateman  Charles Grodin  Mia Farrow  Amy Poehler  Tom Reilly and his wife Sofia are in for some major changes now that they have a newborn. As a lawyer, Sofia has always provided a comfortable living while Tom has contributed love, support and the occasional paycheck. When Sofia decides to be a stay-at-home mom all that changes. Tom moves the family to Ohio to work for his father-in-law as an assistant associate creative for Sunburst Communications. His boss Chip happens to still carry a torch for Sofia from their high school days. Each time Tom gains some ground at the firm, Chip wheels in and steals his thunder. Dirty tricks and sabotage abound creating an atmosphere of fierce paranoia that eventually threatens Tom and Sofia's relationship. Chip will stop at nothing to see Tom defeated while no one but Tom can see Chip for the evil genius he is. Through it all Tom's esteem is depleted, his manhood challenged (by a surprisingly large adversary) and he's watching his family slip away.  Jesse Peretz      The Weinstein Co.  The Ex  Michael Handelman  David Guion      Romance   \n",
      "\n",
      "This is for review 6586 : \n",
      "David Schwimmer  Gwyneth Paltrow  Barbara Hershey  Michael Rapaport  Toni Collette  Carol Kane  Tom is a twentysomething loser with no life. Mrs. Abernathy asks Tom to be the pallbearer and deliver the eulogy for her son, a person whom Tom cannot remember. Tom and Mrs. Abernathy become lovers, but when Tom gets reacquainted with his beautiful high-school dream-girl Julie, Mrs. Abernathy becomes enraged.  Matt Reeves  Natt Reeves    Miramax  The Pallbearer  Matt Reeves  Jason Katims      Comedy   \n",
      "\n",
      "This is for review 10595 : \n",
      "Tom Hanks  Alexander Black  Sarita Choudhury  David Menkin  Tom Skerritt  Ben Whishaw  Cultures collide when an American businessman (Tom Hanks) is sent to Saudi Arabia to close what he hopes will be the deal of a lifetime. Baffled by local customs and stymied by an opaque bureaucracy, he eventually finds his footing with the help of a wise-cracking taxi driver (Alexander Black) and a beautiful Saudi doctor (Sarita Choudhury).  Tom Tykwer      Roadside Attractions  A Hologram for the King  Tom Tykwer        Drama   \n",
      "\n",
      "This is for review 3125 : \n",
      "Rob Morrow  Laura Linney  Craig Sheffer  Rose Gregorio  Gia Carides  Robert Hogan  An artist with Tourette's syndrome and an aversion to romance falls for his best friend's girl in this sometimes comic drama. Lyle Maze (Rob Morrow), a successful painter who's also starting to explore sculpture, relies on emotional armor a foot thick to protect him from other people. In addition to suffering from uncontrollable physical tics and loud outbursts, Lyle is also prone to obsessive-compulsive disorder. Afraid that his artistic gifts and his disease spring from the same well, he eschews the well-meaning advice of his doctor pal, Mike (Craig Sheffer), and refuses to try the new drug therapies available. He also rejects any attempt to fix him up with women. But when rebel-without-a-cause Mike decides to tilt at windmills in Africa for seven months as a member of Doctors Without Borders, Lyle finds himself in a precarious position. Callie (Laura Linney), Mike's acerbic ad-exec girlfriend, has confided to him that she's pregnant but unwilling to use her condition as leverage to shore up her troubled relationship. Soon, Lyle is coaching Callie through natural childbirth classes, playing surrogate father-to-be, and falling in love. Inspired by the documentary Twitch and Shout, Maze marked the first trip behind the camera for actor Rob Morrow, who played another man with Tourette's in the film Other Voices. In addition to directing and starring in Maze, the Northern Exposure star co-wrote and co-produced.  Rob Morrow      Regent Releasing  Maze  Rob Morrow  Nicole Burdette  Bradley White    nanArt&Foreign  Comedy   \n",
      "\n",
      "This is for review 11470 : \n",
      "Rosa Arredondo  Omarion Grandberry  James McCaffrey  Giancarlo Esposito  Melonie Diaz  Kellita Smith  A 21-year-old aspiring hip-hop star from the Bronx is forced to put his career on hold when a gang of local thugs threatens his life and he is forced to seek refuge with his estranged father in Puerto Rico in this musical drama from producer Jennifer Lopez. Rob (Omarion Grandberry) is a New York City rapper who has gotten into hot water in his hometown, and now must flee to Puerto Rico. Upon arriving at his father's home in the Caribbean commonwealth, Rob immediately forms a bond with his half-brother, Javi, who introduces his distant sibling to the seductive sounds of Reggaeton. Rob and Javi's outwardly divergent musical tastes ultimately blend to form a unique new brand of hip-hop-flavored reggae, and they soon begin to gain a loyal following that ultimately leads them both back to New York City. Yet despite Rob's growing popularity in the music industry, the gangsters back in the Bronx are still hell-bent on revenge, and willing to gun him down at the first chance they get. Is Rob's newfound status as a high-profile musical innovator enough to make him bulletproof, or could it be that he's more vulnerable than ever now that he's up on-stage for all the world to see?  Alejandro Chomski      Tri-Star Pictures  Feel the Noise  Albert Leon        Drama   \n",
      "\n",
      "This is the title of the recommended movie The Haunted World of El Superbeasto  \n",
      "This is the title of the recommended movie My Flesh and Blood  \n",
      "This is the title of the recommended movie Big Stan  \n",
      "This is the title of the recommended movie You May Not Kiss the Bride  \n",
      "This is the title of the recommended movie This Is Spinal Tap  \n",
      "This is the title of the recommended movie The Ex  \n",
      "This is the title of the recommended movie The Pallbearer  \n",
      "This is the title of the recommended movie A Hologram for the King  \n",
      "This is the title of the recommended movie Maze  \n",
      "This is the title of the recommended movie Feel the Noise  \n"
     ]
    },
    {
     "data": {
      "text/html": [
       "<iframe id=\"igraph\" scrolling=\"no\" style=\"border:none;\" seamless=\"seamless\" src=\"https://plot.ly/~wan19990901/76.embed\" height=\"525px\" width=\"100%\"></iframe>"
      ],
      "text/plain": [
       "<plotly.tools.PlotlyDisplay object>"
      ]
     },
     "execution_count": 27,
     "metadata": {},
     "output_type": "execute_result"
    }
   ],
   "source": [
    "data_m = vector_movie.fit_transform(s_movie)\n",
    "que_m = vector_movie.transform(['Tom Papa and Rob zombie ']) \n",
    "knn = NearestNeighbors(10,metric='cosine')\n",
    "knn.fit(data_m)\n",
    "result = knn\n",
    "labels = []\n",
    "idx = []\n",
    "for i in result[1][0]:\n",
    "    print('This is for review ' + str(i) + \" : \\n\" + data_movie.iloc[i],'\\n')\n",
    "for i in result[1][0]:\n",
    "    t = movie.iloc[i]['Title']\n",
    "    if(pd.isna(t)):\n",
    "        continue\n",
    "    else:\n",
    "        j = np.argwhere(result[1][0] == i)[0][0]\n",
    "        idx.append(j)\n",
    "        labels.append(t)\n",
    "        print(\"This is the title of the recommended movie \" + t)\n",
    "values = (result[0][0])[idx]\n",
    "colors = ['#FEBFB3', '#E1396C', '#96D38C', '#D0F9B1']\n",
    "trace = go.Pie(labels=labels, values=values,\n",
    "               hoverinfo='label+percent', textinfo='value', \n",
    "               textfont=dict(size=20),\n",
    "               marker=dict(colors=colors, \n",
    "                           line=dict(color='#000000', width=2)))\n",
    "\n",
    "py.iplot([trace], filename='styled_pie_chart')"
   ]
  },
  {
   "cell_type": "markdown",
   "metadata": {},
   "source": [
    "# idea"
   ]
  },
  {
   "cell_type": "markdown",
   "metadata": {},
   "source": [
    "## We first display the result with any bias (do not refer to any other, if they like, great, if not, we should then ask further, content collabrative filtering), we can also give a general idea for different categories and some interesting facts, produce some graphs as well"
   ]
  },
  {
   "cell_type": "markdown",
   "metadata": {},
   "source": [
    "# Tasks: "
   ]
  },
  {
   "cell_type": "raw",
   "metadata": {},
   "source": [
    "0: Discuss the use of reviews(topic mining to tell what's good and what's a bad movie?)\n",
    "1 : feature averge rating column on movie table(based on critic, number of reviews, etc)\n",
    "2 : further feature engineering to get the columns we need when recoomend\n",
    "3 : Manually add more data from douban dataset, after we choose the things we want to keep for analyze, also feature average score\n",
    "4 : some interesting plots on the things we keep.\n",
    "\n",
    "Future: Kmeans GMM Text clustering on description after searching query, more text preprocessing(N-gram, stemming,etc), create a class for code to make system robust and readable,get website ready and get ready for deployment, Add text summaryizer to the result"
   ]
  },
  {
   "cell_type": "code",
   "execution_count": 32,
   "metadata": {},
   "outputs": [],
   "source": [
    "import pickle"
   ]
  },
  {
   "cell_type": "code",
   "execution_count": 33,
   "metadata": {},
   "outputs": [],
   "source": [
    "pickle.dump(knn, open('model.pkl','wb'))"
   ]
  },
  {
   "cell_type": "code",
   "execution_count": 48,
   "metadata": {},
   "outputs": [
    {
     "ename": "FileNotFoundError",
     "evalue": "[Errno 2] No such file or directory: 'model.pkl'",
     "output_type": "error",
     "traceback": [
      "\u001b[0;31m---------------------------------------------------------------------------\u001b[0m",
      "\u001b[0;31mFileNotFoundError\u001b[0m                         Traceback (most recent call last)",
      "\u001b[0;32m<ipython-input-48-fb96296544fe>\u001b[0m in \u001b[0;36m<module>\u001b[0;34m\u001b[0m\n\u001b[0;32m----> 1\u001b[0;31m \u001b[0mmodel\u001b[0m \u001b[0;34m=\u001b[0m \u001b[0mpickle\u001b[0m\u001b[0;34m.\u001b[0m\u001b[0mload\u001b[0m\u001b[0;34m(\u001b[0m\u001b[0mopen\u001b[0m\u001b[0;34m(\u001b[0m\u001b[0;34m'model.pkl'\u001b[0m\u001b[0;34m,\u001b[0m\u001b[0;34m'rb'\u001b[0m\u001b[0;34m)\u001b[0m\u001b[0;34m)\u001b[0m\u001b[0;34m\u001b[0m\u001b[0;34m\u001b[0m\u001b[0m\n\u001b[0m\u001b[1;32m      2\u001b[0m \u001b[0mmodel\u001b[0m\u001b[0;34m.\u001b[0m\u001b[0mkneighbors\u001b[0m\u001b[0;34m(\u001b[0m\u001b[0mque_m\u001b[0m\u001b[0;34m)\u001b[0m\u001b[0;34m[\u001b[0m\u001b[0;36m0\u001b[0m\u001b[0;34m]\u001b[0m\u001b[0;34m\u001b[0m\u001b[0;34m\u001b[0m\u001b[0m\n",
      "\u001b[0;31mFileNotFoundError\u001b[0m: [Errno 2] No such file or directory: 'model.pkl'"
     ]
    }
   ],
   "source": [
    "model = pickle.load(open('model.pkl','rb'))\n"
   ]
  },
  {
   "cell_type": "code",
   "execution_count": 51,
   "metadata": {},
   "outputs": [
    {
     "data": {
      "text/plain": [
       "array([ 9481,  4656,  9236,  9396,  9655,  9843, 10130,  8929,  9430,\n",
       "        9474])"
      ]
     },
     "execution_count": 51,
     "metadata": {},
     "output_type": "execute_result"
    }
   ],
   "source": [
    "model.kneighbors(que_m)[1][0]"
   ]
  },
  {
   "cell_type": "code",
   "execution_count": null,
   "metadata": {},
   "outputs": [],
   "source": [
    "pd.read_csv('')"
   ]
  }
 ],
 "metadata": {
  "kernelspec": {
   "display_name": "Python 3",
   "language": "python",
   "name": "python3"
  },
  "language_info": {
   "codemirror_mode": {
    "name": "ipython",
    "version": 3
   },
   "file_extension": ".py",
   "mimetype": "text/x-python",
   "name": "python",
   "nbconvert_exporter": "python",
   "pygments_lexer": "ipython3",
   "version": "3.7.2"
  }
 },
 "nbformat": 4,
 "nbformat_minor": 2
}
